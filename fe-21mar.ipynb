{
 "cells": [
  {
   "cell_type": "code",
   "execution_count": null,
   "id": "9fe3775e-2ab0-4687-89e1-9795225f94e2",
   "metadata": {},
   "outputs": [],
   "source": [
    "OrdinalEncoder preserves the ordinal relationship between categories by assigning them ordinal integer values,\n",
    "while LabelEncoder simply assigns unique integer labels to each category without considering any order."
   ]
  },
  {
   "cell_type": "code",
   "execution_count": null,
   "id": "e0c920ef-4654-4a6b-b5b4-668705ada35b",
   "metadata": {},
   "outputs": [],
   "source": [
    "Target Guided Ordinal Encoding is a technique used to encode categorical variables based on the target variable in a supervised machine learning problem. It assigns ordinal values to categories based on their relationship with the target variable."
   ]
  },
  {
   "cell_type": "code",
   "execution_count": 30,
   "id": "e9b687d1-333e-4a69-9dbf-5100dde4f699",
   "metadata": {},
   "outputs": [
    {
     "data": {
      "text/html": [
       "<div>\n",
       "<style scoped>\n",
       "    .dataframe tbody tr th:only-of-type {\n",
       "        vertical-align: middle;\n",
       "    }\n",
       "\n",
       "    .dataframe tbody tr th {\n",
       "        vertical-align: top;\n",
       "    }\n",
       "\n",
       "    .dataframe thead th {\n",
       "        text-align: right;\n",
       "    }\n",
       "</style>\n",
       "<table border=\"1\" class=\"dataframe\">\n",
       "  <thead>\n",
       "    <tr style=\"text-align: right;\">\n",
       "      <th></th>\n",
       "      <th>city</th>\n",
       "      <th>price</th>\n",
       "    </tr>\n",
       "  </thead>\n",
       "  <tbody>\n",
       "    <tr>\n",
       "      <th>0</th>\n",
       "      <td>New York</td>\n",
       "      <td>200</td>\n",
       "    </tr>\n",
       "    <tr>\n",
       "      <th>1</th>\n",
       "      <td>London</td>\n",
       "      <td>150</td>\n",
       "    </tr>\n",
       "    <tr>\n",
       "      <th>2</th>\n",
       "      <td>Paris</td>\n",
       "      <td>300</td>\n",
       "    </tr>\n",
       "    <tr>\n",
       "      <th>3</th>\n",
       "      <td>Tokyo</td>\n",
       "      <td>250</td>\n",
       "    </tr>\n",
       "    <tr>\n",
       "      <th>4</th>\n",
       "      <td>New York</td>\n",
       "      <td>180</td>\n",
       "    </tr>\n",
       "    <tr>\n",
       "      <th>5</th>\n",
       "      <td>Paris</td>\n",
       "      <td>320</td>\n",
       "    </tr>\n",
       "  </tbody>\n",
       "</table>\n",
       "</div>"
      ],
      "text/plain": [
       "       city  price\n",
       "0  New York    200\n",
       "1    London    150\n",
       "2     Paris    300\n",
       "3     Tokyo    250\n",
       "4  New York    180\n",
       "5     Paris    320"
      ]
     },
     "execution_count": 30,
     "metadata": {},
     "output_type": "execute_result"
    }
   ],
   "source": [
    "import pandas as pd\n",
    "\n",
    "# create a sample dataframe with a categorical variable and a target variable\n",
    "df=pd.DataFrame({\n",
    "   'city': ['New York', 'London', 'Paris', 'Tokyo', 'New York', 'Paris'],\n",
    "   'price':[200, 150, 300, 250, 180, 320]\n",
    "})\n",
    "df\n",
    "\n"
   ]
  },
  {
   "cell_type": "code",
   "execution_count": 31,
   "id": "de0bf6cf-71a2-4768-9d2e-0be8c3ab4518",
   "metadata": {},
   "outputs": [
    {
     "data": {
      "text/plain": [
       "{'London': 150.0, 'New York': 190.0, 'Paris': 310.0, 'Tokyo': 250.0}"
      ]
     },
     "execution_count": 31,
     "metadata": {},
     "output_type": "execute_result"
    }
   ],
   "source": [
    "mean_price=df.groupby('city')['price'].mean().to_dict()\n",
    "mean_price"
   ]
  },
  {
   "cell_type": "code",
   "execution_count": 32,
   "id": "5f72d05d-81a3-4e8e-93c6-d7ac7f26051a",
   "metadata": {},
   "outputs": [],
   "source": [
    "df['city_encoded']=df['city'].map(mean_price)"
   ]
  },
  {
   "cell_type": "code",
   "execution_count": 33,
   "id": "1ae9b51a-3366-425f-aaa2-255650a7540c",
   "metadata": {},
   "outputs": [
    {
     "data": {
      "text/html": [
       "<div>\n",
       "<style scoped>\n",
       "    .dataframe tbody tr th:only-of-type {\n",
       "        vertical-align: middle;\n",
       "    }\n",
       "\n",
       "    .dataframe tbody tr th {\n",
       "        vertical-align: top;\n",
       "    }\n",
       "\n",
       "    .dataframe thead th {\n",
       "        text-align: right;\n",
       "    }\n",
       "</style>\n",
       "<table border=\"1\" class=\"dataframe\">\n",
       "  <thead>\n",
       "    <tr style=\"text-align: right;\">\n",
       "      <th></th>\n",
       "      <th>city</th>\n",
       "      <th>price</th>\n",
       "      <th>city_encoded</th>\n",
       "    </tr>\n",
       "  </thead>\n",
       "  <tbody>\n",
       "    <tr>\n",
       "      <th>0</th>\n",
       "      <td>New York</td>\n",
       "      <td>200</td>\n",
       "      <td>190.0</td>\n",
       "    </tr>\n",
       "    <tr>\n",
       "      <th>1</th>\n",
       "      <td>London</td>\n",
       "      <td>150</td>\n",
       "      <td>150.0</td>\n",
       "    </tr>\n",
       "    <tr>\n",
       "      <th>2</th>\n",
       "      <td>Paris</td>\n",
       "      <td>300</td>\n",
       "      <td>310.0</td>\n",
       "    </tr>\n",
       "    <tr>\n",
       "      <th>3</th>\n",
       "      <td>Tokyo</td>\n",
       "      <td>250</td>\n",
       "      <td>250.0</td>\n",
       "    </tr>\n",
       "    <tr>\n",
       "      <th>4</th>\n",
       "      <td>New York</td>\n",
       "      <td>180</td>\n",
       "      <td>190.0</td>\n",
       "    </tr>\n",
       "    <tr>\n",
       "      <th>5</th>\n",
       "      <td>Paris</td>\n",
       "      <td>320</td>\n",
       "      <td>310.0</td>\n",
       "    </tr>\n",
       "  </tbody>\n",
       "</table>\n",
       "</div>"
      ],
      "text/plain": [
       "       city  price  city_encoded\n",
       "0  New York    200         190.0\n",
       "1    London    150         150.0\n",
       "2     Paris    300         310.0\n",
       "3     Tokyo    250         250.0\n",
       "4  New York    180         190.0\n",
       "5     Paris    320         310.0"
      ]
     },
     "execution_count": 33,
     "metadata": {},
     "output_type": "execute_result"
    }
   ],
   "source": [
    "df"
   ]
  },
  {
   "cell_type": "code",
   "execution_count": null,
   "id": "dd13e8e7-8f9a-4df6-8cfa-a11f0afe8a1d",
   "metadata": {},
   "outputs": [],
   "source": [
    "Covariance is a measure of the relationship between two random variables. It indicates how much two variables change together. Specifically, it measures the degree to which two variables vary or move together relative to their means.\n",
    "\n",
    "In statistical analysis, covariance is important because it helps us understand the relationship between two variables. For example, if two variables have a high positive covariance, it means that when one variable is above its mean, the other variable tends to be above its mean as well. Conversely, if they have a high negative covariance, it means that when one variable is above its mean, the other tends to be below its mean.\n",
    "\n",
    "Covariance is calculated using the following formula:\n",
    "\n",
    "cov\n",
    "cov(X,Y)= n/1 ∑i=1(X i − Xˉ)(Y i− Yˉ )"
   ]
  },
  {
   "cell_type": "code",
   "execution_count": 34,
   "id": "62f21ec5-687f-4d94-8150-32240246d5fb",
   "metadata": {},
   "outputs": [
    {
     "name": "stdout",
     "output_type": "stream",
     "text": [
      "   Color     Size Material  Color_encoded  Size_encoded  Material_encoded\n",
      "0    red    small     wood              2             2                 2\n",
      "1  green   medium    metal              1             0                 0\n",
      "2   blue    large  plastic              0             1                 1\n"
     ]
    }
   ],
   "source": [
    "import pandas as pd\n",
    "from sklearn.preprocessing import LabelEncoder\n",
    "\n",
    "data = {\n",
    "    'Color':['red', 'green', 'blue'],\n",
    "    'Size':['small',' medium', 'large'],\n",
    "    'Material':['wood', 'metal', 'plastic']\n",
    "}\n",
    "\n",
    "df=pd.DataFrame(data)\n",
    "\n",
    "label_encoder=LabelEncoder()\n",
    "df['Color_encoded'] = label_encoder.fit_transform(df['Color'])\n",
    "df['Size_encoded'] = label_encoder.fit_transform(df['Size'])\n",
    "df['Material_encoded'] = label_encoder.fit_transform(df['Material'])\n",
    "\n",
    "print(df)\n"
   ]
  },
  {
   "cell_type": "code",
   "execution_count": 35,
   "id": "7f96456a-cf71-44e1-8088-266334cf2216",
   "metadata": {},
   "outputs": [
    {
     "name": "stdout",
     "output_type": "stream",
     "text": [
      "Covariance Matrix:\n",
      "                Age      Income  Education\n",
      "Age           62.50    -12500.0      16.25\n",
      "Income    -12500.00  92500000.0   -6250.00\n",
      "Education     16.25     -6250.0       5.00\n"
     ]
    }
   ],
   "source": [
    "import pandas as pd\n",
    "\n",
    "# Sample dataset\n",
    "data = {\n",
    "    'Age': [35, 45, 30, 25, 40],\n",
    "    'Income': [50000, 60000, 45000, 70000, 55000],\n",
    "    'Education': [16, 18, 14, 12, 15]\n",
    "}\n",
    "\n",
    "# Create a DataFrame\n",
    "df = pd.DataFrame(data)\n",
    "\n",
    "# Calculate covariance matrix\n",
    "covariance_matrix = df.cov()\n",
    "\n",
    "# Display covariance matrix\n",
    "print(\"Covariance Matrix:\")\n",
    "print(covariance_matrix)\n"
   ]
  },
  {
   "cell_type": "code",
   "execution_count": 36,
   "id": "361c9f4b-bab9-4e97-85f7-b48c7dc17dbd",
   "metadata": {},
   "outputs": [
    {
     "name": "stdout",
     "output_type": "stream",
     "text": [
      "   Gender Education Level Employment Status  Gender_encoded  \\\n",
      "0    Male     High School         Full-Time               1   \n",
      "1  Female      Bachelor's         Part-Time               0   \n",
      "2    Male        Master's        Unemployed               1   \n",
      "3    Male             PhD         Full-Time               1   \n",
      "4  Female      Bachelor's         Part-Time               0   \n",
      "\n",
      "   Education Level_encoded  Employment Status_encoded  \n",
      "0                        1                          0  \n",
      "1                        0                          1  \n",
      "2                        2                          2  \n",
      "3                        3                          0  \n",
      "4                        0                          1  \n"
     ]
    }
   ],
   "source": [
    "import pandas as pd\n",
    "from sklearn.preprocessing import LabelEncoder\n",
    "\n",
    "# Sample dataset\n",
    "data = {\n",
    "    'Gender': ['Male', 'Female', 'Male', 'Male', 'Female'],\n",
    "    'Education Level': ['High School', \"Bachelor's\", \"Master's\", 'PhD', \"Bachelor's\"],\n",
    "    'Employment Status': ['Full-Time', 'Part-Time', 'Unemployed', 'Full-Time', 'Part-Time']\n",
    "}\n",
    "df=pd.DataFrame(data)\n",
    "\n",
    "label_encoder=LabelEncoder()\n",
    "df['Gender_encoded'] = label_encoder.fit_transform(df['Gender'])\n",
    "df['Education Level_encoded'] = label_encoder.fit_transform(df['Education Level'])\n",
    "df['Employment Status_encoded'] = label_encoder.fit_transform(df['Employment Status'])\n",
    "\n",
    "print(df)"
   ]
  },
  {
   "cell_type": "code",
   "execution_count": 37,
   "id": "286f0d08-2dfc-418b-b6d6-fea3575527a3",
   "metadata": {},
   "outputs": [
    {
     "name": "stdout",
     "output_type": "stream",
     "text": [
      "Covariance Matrix between Temperature and Humidity:\n",
      "             Temperature  Humidity\n",
      "Temperature         9.20    -23.75\n",
      "Humidity          -23.75     62.50\n"
     ]
    }
   ],
   "source": [
    "import pandas as pd\n",
    "\n",
    "# Sample dataset\n",
    "data = {\n",
    "    'Temperature': [25, 28, 22, 20, 24],\n",
    "    'Humidity': [60, 55, 70, 75, 65],\n",
    "    'Weather Condition': ['Sunny', 'Cloudy', 'Rainy', 'Sunny', 'Cloudy'],\n",
    "    'Wind Direction': ['North', 'South', 'East', 'West', 'North']\n",
    "}\n",
    "\n",
    "# Create a DataFrame\n",
    "df = pd.DataFrame(data)\n",
    "\n",
    "# Calculate covariance matrix\n",
    "covariance_matrix = df[['Temperature', 'Humidity']].cov()\n",
    "\n",
    "# Display covariance matrix\n",
    "print(\"Covariance Matrix between Temperature and Humidity:\")\n",
    "print(covariance_matrix)\n"
   ]
  },
  {
   "cell_type": "code",
   "execution_count": null,
   "id": "c5a6fc5d-33ca-4fcb-a1c8-d137809b8cb8",
   "metadata": {},
   "outputs": [],
   "source": []
  },
  {
   "cell_type": "code",
   "execution_count": null,
   "id": "e98d49b8-a1d6-42f3-b768-3451e67710c5",
   "metadata": {},
   "outputs": [],
   "source": []
  },
  {
   "cell_type": "code",
   "execution_count": null,
   "id": "a7b23c9c-ca7f-4a07-bef4-a781414f3d1a",
   "metadata": {},
   "outputs": [],
   "source": []
  }
 ],
 "metadata": {
  "kernelspec": {
   "display_name": "Python 3 (ipykernel)",
   "language": "python",
   "name": "python3"
  },
  "language_info": {
   "codemirror_mode": {
    "name": "ipython",
    "version": 3
   },
   "file_extension": ".py",
   "mimetype": "text/x-python",
   "name": "python",
   "nbconvert_exporter": "python",
   "pygments_lexer": "ipython3",
   "version": "3.10.8"
  }
 },
 "nbformat": 4,
 "nbformat_minor": 5
}
