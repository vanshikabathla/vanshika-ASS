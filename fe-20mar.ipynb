{
 "cells": [
  {
   "cell_type": "code",
   "execution_count": null,
   "id": "f778fb1f-9805-444f-83e4-3593489b76d2",
   "metadata": {},
   "outputs": [],
   "source": [
    "Data encoding and decoding play a crucial role in data science, as they act as a bridge between raw data and actionable insights. \n",
    "They enable us to: Prepare data for analysis by transforming it into a suitable format that can be processed by algorithms or models.\n"
   ]
  },
  {
   "cell_type": "code",
   "execution_count": null,
   "id": "1268c08b-4810-4b2a-9851-b2a495e3edcb",
   "metadata": {},
   "outputs": [],
   "source": [
    "Nominal encoding, also known as label encoding, is a technique used to convert categorical variables into numerical format by assigning a unique integer label to each category. Unlike ordinal encoding, \n",
    "the assigned labels do not imply any ordinal relationship between the categories; they are merely used to represent different categories numerically."
   ]
  },
  {
   "cell_type": "code",
   "execution_count": null,
   "id": "39188cfd-468a-40fe-8bb4-f17f3cc6448c",
   "metadata": {},
   "outputs": [],
   "source": [
    "Nominal encoding, also known as label encoding, is preferred over one-hot encoding in situations where the categorical variable has a large number of unique categories and when the order of categories doesn't matter. One-hot encoding, on the other hand, creates binary columns for each category, which can lead to a high-dimensional and sparse feature space, especially when dealing with a large number of categories.\n",
    "\n",
    "A practical example where nominal encoding might be preferred is in text classification tasks, such as sentiment analysis or topic classification, where you have a large vocabulary of words. Each word in the vocabulary represents a unique category, and using one-hot encoding would result in a very high-dimensional feature space, making the model training computationally expensive and prone to overfitting."
   ]
  },
  {
   "cell_type": "code",
   "execution_count": 15,
   "id": "b1cfb8cf-07d4-4818-b5b3-e87af31eb56a",
   "metadata": {},
   "outputs": [
    {
     "name": "stdout",
     "output_type": "stream",
     "text": [
      "One-Hot Encoding:\n",
      "     A    B    C    D    E\n",
      "0  1.0  0.0  0.0  0.0  0.0\n",
      "1  0.0  1.0  0.0  0.0  0.0\n",
      "2  0.0  0.0  1.0  0.0  0.0\n",
      "3  0.0  0.0  0.0  1.0  0.0\n",
      "4  0.0  0.0  0.0  0.0  1.0\n"
     ]
    }
   ],
   "source": [
    "import pandas as pd\n",
    "from sklearn.preprocessing import OneHotEncoder\n",
    "\n",
    "# Sample dataset with categorical data\n",
    "data = {'category': ['A', 'B', 'C', 'D', 'E']}\n",
    "df = pd.DataFrame(data)\n",
    "\n",
    "# One-Hot Encoding\n",
    "one_hot_encoder = OneHotEncoder()\n",
    "one_hot_encoded = one_hot_encoder.fit_transform(df[['category']])\n",
    "# Convert to DataFrame for display\n",
    "one_hot_encoded_df = pd.DataFrame(one_hot_encoded.toarray(), columns=one_hot_encoder.categories_[0])\n",
    "\n",
    "print(\"One-Hot Encoding:\")\n",
    "print(one_hot_encoded_df)\n"
   ]
  },
  {
   "cell_type": "code",
   "execution_count": 16,
   "id": "9647ba6f-1481-4d57-a59e-8ee1f1aba6f5",
   "metadata": {},
   "outputs": [
    {
     "name": "stdout",
     "output_type": "stream",
     "text": [
      "Total number of new columns created for nominal encoding: 10\n"
     ]
    }
   ],
   "source": [
    "import pandas as pd\n",
    "\n",
    "# Sample dataset dimensions\n",
    "num_rows = 1000\n",
    "num_categorical_columns = 2\n",
    "\n",
    "# Assuming number of unique categories for each categorical column\n",
    "unique_categories_col1 = 5\n",
    "unique_categories_col2 = 7\n",
    "\n",
    "# Calculate the number of new columns created for each categorical column\n",
    "new_columns_col1 = unique_categories_col1 - 1  # Subtract 1 because one category becomes the reference level\n",
    "new_columns_col2 = unique_categories_col2 - 1\n",
    "\n",
    "# Total number of new columns created\n",
    "total_new_columns = new_columns_col1 + new_columns_col2\n",
    "\n",
    "print(\"Total number of new columns created for nominal encoding:\", total_new_columns)\n"
   ]
  },
  {
   "cell_type": "code",
   "execution_count": 17,
   "id": "3ac67b0e-9670-4d70-bd90-f9b2bebe8b6c",
   "metadata": {},
   "outputs": [
    {
     "name": "stdout",
     "output_type": "stream",
     "text": [
      "    Species   Habitat       Diet  Species_encoded  Habitat_encoded  \\\n",
      "0      Lion  Savannah  Carnivore                1                2   \n",
      "1  Elephant    Jungle  Herbivore                0                1   \n",
      "2    Monkey    Forest   Omnivore                2                0   \n",
      "3      Lion  Savannah  Carnivore                1                2   \n",
      "4    Monkey    Forest   Omnivore                2                0   \n",
      "\n",
      "   Diet_encoded  \n",
      "0             0  \n",
      "1             1  \n",
      "2             2  \n",
      "3             0  \n",
      "4             2  \n"
     ]
    }
   ],
   "source": [
    "import pandas as pd\n",
    "from sklearn.preprocessing import LabelEncoder\n",
    "\n",
    "# Sample animal dataset\n",
    "data = {\n",
    "    'Species': ['Lion', 'Elephant', 'Monkey', 'Lion', 'Monkey'],\n",
    "    'Habitat': ['Savannah', 'Jungle', 'Forest', 'Savannah', 'Forest'],\n",
    "    'Diet': ['Carnivore', 'Herbivore', 'Omnivore', 'Carnivore', 'Omnivore']\n",
    "}\n",
    "\n",
    "df = pd.DataFrame(data)\n",
    "\n",
    "# Apply label encoding to each categorical column\n",
    "label_encoder = LabelEncoder()\n",
    "df['Species_encoded'] = label_encoder.fit_transform(df['Species'])\n",
    "df['Habitat_encoded'] = label_encoder.fit_transform(df['Habitat'])\n",
    "df['Diet_encoded'] = label_encoder.fit_transform(df['Diet'])\n",
    "\n",
    "# Display the encoded DataFrame\n",
    "print(df)\n"
   ]
  },
  {
   "cell_type": "code",
   "execution_count": 18,
   "id": "ae35ce04-6c29-44ef-a538-c2320207b77b",
   "metadata": {},
   "outputs": [
    {
     "data": {
      "text/plain": [
       "(   contract_type_Month-to-month  contract_type_One year  \\\n",
       " 0                           1.0                     0.0   \n",
       " 1                           0.0                     0.0   \n",
       " 2                           0.0                     1.0   \n",
       " 3                           1.0                     0.0   \n",
       " 4                           0.0                     0.0   \n",
       " \n",
       "    contract_type_Two year  \n",
       " 0                     0.0  \n",
       " 1                     1.0  \n",
       " 2                     0.0  \n",
       " 3                     0.0  \n",
       " 4                     1.0  ,\n",
       "    gender  age   contract_type  monthly_charges  tenure\n",
       " 0    Male   35  Month-to-month             65.5      10\n",
       " 1  Female   42        Two year             80.2      24\n",
       " 2    Male   28        One year             45.3       5\n",
       " 3  Female   55  Month-to-month             75.1      12\n",
       " 4    Male   30        Two year             85.6      36)"
      ]
     },
     "execution_count": 18,
     "metadata": {},
     "output_type": "execute_result"
    }
   ],
   "source": [
    "import pandas as pd\n",
    "from sklearn.preprocessing import OneHotEncoder\n",
    "\n",
    "# Sample dataset\n",
    "data = {\n",
    "    'gender': ['Male', 'Female', 'Male', 'Female', 'Male'],\n",
    "    'age': [35, 42, 28, 55, 30],\n",
    "    'contract_type': ['Month-to-month', 'Two year', 'One year', 'Month-to-month', 'Two year'],\n",
    "    'monthly_charges': [65.5, 80.2, 45.3, 75.1, 85.6],\n",
    "    'tenure': [10, 24, 5, 12, 36]\n",
    "}\n",
    "\n",
    "df = pd.DataFrame(data)\n",
    "encoder=OneHotEncoder() \n",
    "encoded=encoder.fit_transform(df[['contract_type']])\n",
    "encoded_df=pd.DataFrame(encoded.toarray(),columns=encoder.get_feature_names_out())\n",
    "encoded_df,df"
   ]
  },
  {
   "cell_type": "code",
   "execution_count": null,
   "id": "dc306430-0939-4c39-ba5b-3b5baa806aa5",
   "metadata": {},
   "outputs": [],
   "source": []
  },
  {
   "cell_type": "code",
   "execution_count": null,
   "id": "a696751c-333c-4807-9a9d-f23b1cbd383d",
   "metadata": {},
   "outputs": [],
   "source": []
  },
  {
   "cell_type": "code",
   "execution_count": null,
   "id": "7a2b988c-5646-4011-a818-c7715cb270f6",
   "metadata": {},
   "outputs": [],
   "source": []
  },
  {
   "cell_type": "code",
   "execution_count": null,
   "id": "0886f90d-c237-46e0-9f5f-6bcce0cbf169",
   "metadata": {},
   "outputs": [],
   "source": []
  }
 ],
 "metadata": {
  "kernelspec": {
   "display_name": "Python 3 (ipykernel)",
   "language": "python",
   "name": "python3"
  },
  "language_info": {
   "codemirror_mode": {
    "name": "ipython",
    "version": 3
   },
   "file_extension": ".py",
   "mimetype": "text/x-python",
   "name": "python",
   "nbconvert_exporter": "python",
   "pygments_lexer": "ipython3",
   "version": "3.10.8"
  }
 },
 "nbformat": 4,
 "nbformat_minor": 5
}
