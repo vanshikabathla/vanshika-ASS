{
 "cells": [
  {
   "cell_type": "code",
   "execution_count": null,
   "id": "cb0ba3e6-30e1-49c0-ac8e-80319ad385b3",
   "metadata": {},
   "outputs": [],
   "source": [
    "1 We can do multithreading in Python, that is, executing multiple parts of the program at a time using the threading module\n",
    "This module has a higher class called the Thread(), which handles the execution of the program as a whole"
   ]
  },
  {
   "cell_type": "code",
   "execution_count": null,
   "id": "17072f9e-14e0-403c-89f1-ac12d23a0e31",
   "metadata": {},
   "outputs": [],
   "source": [
    "2 The threading.active_count() is an inbuilt method of the threading module, it is used to return the number of Thread objects that are active at any instant.\n",
    "\n",
    "Python threading.current_thread() Method: In this tutorial, we will learn about the current_thread() method of threading module in Python with its usage, syntax, and examples.\n",
    "\n",
    "The enumerate () method adds a counter to an iterable and returns it in the form of an enumerating object. This enumerated object can then be used directly for loops or converted into a list of tuples using the list() function."
   ]
  },
  {
   "cell_type": "code",
   "execution_count": null,
   "id": "97754aff-ac0e-4404-8543-2031a181b9e3",
   "metadata": {},
   "outputs": [],
   "source": [
    "3 Python threading allows you to have different parts of your program run concurrently and can simplify your design\n",
    "\n",
    "When a thread instance is created, it doesn’t start executing until its start() method (which invokes the target function with the arguments you supplied) is invoked. \n",
    "\n",
    "the join() method indicates wait till the thread terminates. We can also specify a timeout value to the join() method.\n",
    "\n",
    "The.is_alive () method returns True if the thread is still running and False, otherwise. Syntax thread_object.is_alive () This method will return True from when the.run () method starts until just after it finishes."
   ]
  },
  {
   "cell_type": "code",
   "execution_count": 27,
   "id": "2f960c90-1481-440e-bb15-9e904aabf5df",
   "metadata": {},
   "outputs": [],
   "source": [
    "import threading \n",
    "\n",
    "def print_squares(id) :\n",
    "    for i in range(10):\n",
    "        print(i*i)"
   ]
  },
  {
   "cell_type": "code",
   "execution_count": 31,
   "id": "34d823ee-eb66-4f4e-b4f8-f4127b6f18fa",
   "metadata": {},
   "outputs": [],
   "source": [
    "thread1 = threading.Thread(target=print_squares, args=(numbers,))"
   ]
  },
  {
   "cell_type": "code",
   "execution_count": 33,
   "id": "fbd5ad5b-963d-4628-9341-b3faac256ff9",
   "metadata": {},
   "outputs": [
    {
     "name": "stdout",
     "output_type": "stream",
     "text": [
      "0\n",
      "1\n",
      "4\n",
      "9\n",
      "16\n",
      "25\n",
      "36\n",
      "49\n",
      "64\n",
      "81\n"
     ]
    }
   ],
   "source": [
    "thread1.start()"
   ]
  },
  {
   "cell_type": "code",
   "execution_count": 34,
   "id": "f8fd1157-b1ce-4a5b-a867-8a48dc583efd",
   "metadata": {},
   "outputs": [],
   "source": [
    "import threading \n",
    "\n",
    "def print_cubes(id) :\n",
    "    for i in range(10):\n",
    "        print(i**3)"
   ]
  },
  {
   "cell_type": "code",
   "execution_count": 35,
   "id": "ef8f22ab-ff50-42d2-99aa-4fef6aa3281c",
   "metadata": {},
   "outputs": [],
   "source": [
    "thread2 = threading.Thread(target=print_cubes, args=(numbers,))"
   ]
  },
  {
   "cell_type": "code",
   "execution_count": 36,
   "id": "cee66cbf-0d0d-413f-a8b1-b96e3a907b1f",
   "metadata": {},
   "outputs": [
    {
     "name": "stdout",
     "output_type": "stream",
     "text": [
      "0\n",
      "1\n",
      "8\n",
      "27\n",
      "64\n",
      "125\n",
      "216\n",
      "343\n",
      "512\n",
      "729\n"
     ]
    }
   ],
   "source": [
    "thread2.start()"
   ]
  },
  {
   "cell_type": "markdown",
   "id": "f24a28b3-640d-4fc4-a9e5-47ee4b2335f5",
   "metadata": {},
   "source": [
    "# Advantages of multithreading"
   ]
  },
  {
   "cell_type": "code",
   "execution_count": null,
   "id": "73946a1a-f881-4f6f-a5c3-537d4f1870f0",
   "metadata": {},
   "outputs": [],
   "source": [
    "Improves resource utilization\n",
    "Increases responsiveness\n",
    "Enables concurrent processing\n",
    "Reduces idle computer time\n",
    "Better system throughput\n"
   ]
  },
  {
   "cell_type": "markdown",
   "id": "3fe0fb6e-83d6-4d4f-98d8-01b21955e5cc",
   "metadata": {},
   "source": [
    "# Disadvantages of multithreading"
   ]
  },
  {
   "cell_type": "code",
   "execution_count": null,
   "id": "3f1be858-7725-4921-9d8b-0fe501ebc5a7",
   "metadata": {},
   "outputs": [],
   "source": [
    "Complex debugging\n",
    "Higher resource consumption\n",
    "Increased synchronization complexity\n",
    "Potential for thread interference\n",
    "Difficulty in timing predictability\n"
   ]
  },
  {
   "cell_type": "code",
   "execution_count": null,
   "id": "7e2ec233-0dbc-4c79-afe5-187aaf9842da",
   "metadata": {},
   "outputs": [],
   "source": [
    "A Deadlock is a situation that involves the interaction of more than one resource and process with each other. \n",
    "We can visualize the occurrence of deadlock as a situation where there are two people on a staircase.\n",
    "\n",
    "A race condition occurs when two or more threads can access shared data and they try to change it at the same time. \n",
    "Because the thread scheduling algorithm can swap between threads at any time,\n",
    "you do not  know the order in which the threads will attempt to access the shared data."
   ]
  }
 ],
 "metadata": {
  "kernelspec": {
   "display_name": "Python 3 (ipykernel)",
   "language": "python",
   "name": "python3"
  },
  "language_info": {
   "codemirror_mode": {
    "name": "ipython",
    "version": 3
   },
   "file_extension": ".py",
   "mimetype": "text/x-python",
   "name": "python",
   "nbconvert_exporter": "python",
   "pygments_lexer": "ipython3",
   "version": "3.10.8"
  }
 },
 "nbformat": 4,
 "nbformat_minor": 5
}
