{
 "cells": [
  {
   "cell_type": "code",
   "execution_count": null,
   "id": "a525633f-9169-434b-bdc9-03e1aaf01726",
   "metadata": {},
   "outputs": [],
   "source": [
    "T-Test:\n",
    "Purpose: The t-test is used when we don’t know the population variance. It’s suitable for small sample sizes.\n",
    "Distribution: It relies on the Student’s t-distribution.\n",
    "Degrees of Freedom: Degrees of freedom are needed in t-testing.\n",
    "Calculation:\n",
    "Calculate the t statistic using the formula: [ t = \\frac{{M - \\mu}}{{s_M}} ] where:\n",
    "(M) is the sample mean.\n",
    "(\\mu) is the population mean.\n",
    "(s_M) is the sample standard error.\n",
    "Example Scenario:\n",
    "Suppose we want to compare the average test scores of two groups of students (e.g., a new teaching method vs. the traditional method). We collect test scores from both groups and use a t-test to determine if there’s a significant difference.\n",
    "\n",
    "\n",
    "Z-Test:\n",
    "Purpose: The z-test is used when we know the population variance. It’s suitable for large sample sizes.\n",
    "Distribution: It relies on the standard normal distribution.\n",
    "Degrees of Freedom: Degrees of freedom are not needed in z-testing.\n",
    "Calculation:\n",
    "Calculate the z statistic using the formula: [ z = \\frac{{M - \\mu}}{{\\sigma_M}} ] where:\n",
    "(M) is the sample mean.\n",
    "(\\mu) is the population mean.\n",
    "(\\sigma_M) is the sample standard error (calculated as (\\frac{\\sigma}{\\sqrt{n}})).\n",
    "Example Scenario:\n",
    "Imagine we’re testing a new drug’s effectiveness. We collect data on blood pressure levels before and after administering the drug. If we know the population variance, we can use a z-test to determine if the drug significantly reduces blood pressure.\n",
    "Remember, the choice between t-test and z-test depends on whether we have information"
   ]
  },
  {
   "cell_type": "code",
   "execution_count": null,
   "id": "ea8e6ed8-38fe-4c2a-9706-0d27459c023b",
   "metadata": {},
   "outputs": [],
   "source": [
    "The hypothesis being evaluated in a one-tailed test is directional,\n",
    "which means it predicts the direction of the difference or relationship between variables.\n",
    "\n",
    "The hypothesis in a two-tailed test is non-directional,\n",
    "which means it predicts the presence of a difference or link between variables without defining its direction.\n"
   ]
  },
  {
   "cell_type": "code",
   "execution_count": null,
   "id": "d9be8ea7-0609-46c9-bdcf-bc4294e9bb5a",
   "metadata": {},
   "outputs": [],
   "source": [
    "In statistics, a Type I error is a false positive conclusion, while a Type II error is a false negative conclusion.\n",
    "\n",
    "Making a statistical decision always involves uncertainties, so the risks of making these errors are unavoidable in hypothesis testing.\n",
    "\n",
    "The probability of making a Type I error is the significance level, or alpha (α), while the probability of making a Type II error is beta (β). These risks can be minimized through careful planning in your study design."
   ]
  },
  {
   "cell_type": "code",
   "execution_count": null,
   "id": "64a1cabf-a728-4813-8249-8773720b83e8",
   "metadata": {},
   "outputs": [],
   "source": [
    "Bayes’s theorem is used for the calculation of a conditional probability where intuition often fails.\n",
    "Although widely used in probability, the theorem is being applied in the machine learning field too. Its use in machine learning includes the fitting of a model to a training dataset and developing classification models. \n"
   ]
  },
  {
   "cell_type": "code",
   "execution_count": null,
   "id": "b603caac-17ac-4616-babf-cc4bfcd3c6e3",
   "metadata": {},
   "outputs": [],
   "source": [
    "A confidence interval is a range of values that is likely to contain a population parameter with a certain level of confidence.\n",
    "\n",
    "Before you can compute the confidence interval, calculate the mean of your sample. Add up all the values in your data set and divide the sum by the number of values in the sample.\n",
    "For example, to find the mean of a sample of 10 test scores, add up each of the scores and divide this sum by the number of test scores you have."
   ]
  },
  {
   "cell_type": "code",
   "execution_count": 69,
   "id": "4f5fbe89-4ebd-4f8a-952c-c42eef530dbb",
   "metadata": {},
   "outputs": [],
   "source": [
    "sample_mean = 50\n",
    "confidence_interval = 95\n",
    "std = 5\n",
    "significance_level = 0.025"
   ]
  },
  {
   "cell_type": "code",
   "execution_count": 71,
   "id": "184cc072-f6b8-404d-80fa-e79647c5fec7",
   "metadata": {},
   "outputs": [],
   "source": [
    "z_critical_left = scipy.stats.norm.ppf(0.025)"
   ]
  },
  {
   "cell_type": "code",
   "execution_count": 72,
   "id": "6896ec88-0a1a-45f3-a22e-bd13d8278a01",
   "metadata": {},
   "outputs": [
    {
     "data": {
      "text/plain": [
       "-1.9599639845400545"
      ]
     },
     "execution_count": 72,
     "metadata": {},
     "output_type": "execute_result"
    }
   ],
   "source": [
    "z_critical_left"
   ]
  },
  {
   "cell_type": "code",
   "execution_count": 73,
   "id": "8f175f69-47e9-4cbc-b4cc-6fc1dd114d06",
   "metadata": {},
   "outputs": [],
   "source": [
    "z_score = (sample_mean - population_mean) / std"
   ]
  },
  {
   "cell_type": "code",
   "execution_count": 74,
   "id": "8b5c876d-6721-4f04-89bd-c8a178e18e57",
   "metadata": {},
   "outputs": [
    {
     "data": {
      "text/plain": [
       "-2.0"
      ]
     },
     "execution_count": 74,
     "metadata": {},
     "output_type": "execute_result"
    }
   ],
   "source": [
    "z_score"
   ]
  },
  {
   "cell_type": "code",
   "execution_count": 75,
   "id": "4cd9814a-f564-492c-8624-7400dc03e05b",
   "metadata": {},
   "outputs": [
    {
     "name": "stdout",
     "output_type": "stream",
     "text": [
      " reject the null hypothesis \n"
     ]
    }
   ],
   "source": [
    "if z_score < z_critical_left or z_score > z_critical_left :\n",
    "    print(\" reject the null hypothesis \")\n",
    "    \n",
    "else :\n",
    "    print(\"accept the null hypothesis\")"
   ]
  },
  {
   "cell_type": "code",
   "execution_count": null,
   "id": "c7474988-3735-4ad1-86de-b1da1ae35259",
   "metadata": {},
   "outputs": [],
   "source": [
    "The margin of error in a confidence interval represents the range of values around a sample statistic (such as a mean or proportion) within which we can be reasonably confident that the true population parameter lies.\n",
    "It quantifies the uncertainty associated with our estimate.\n",
    "\n",
    "The margin of error is equal to half the width of the entire confidence interval. It tells us how much our estimate might vary due to random sampling variability. \n",
    "For example, if we have a 95% confidence interval with a width of 6 units, the margin of error would be 3 units (half of 6)."
   ]
  },
  {
   "cell_type": "code",
   "execution_count": 7,
   "id": "bb45b233-f781-4c24-8e4a-772b06bbbaeb",
   "metadata": {},
   "outputs": [],
   "source": [
    "sample_mean = 75\n",
    "population_mean = 70\n",
    "std = 5"
   ]
  },
  {
   "cell_type": "code",
   "execution_count": 10,
   "id": "88c7079d-814f-4bf7-b77b-38e69d13e115",
   "metadata": {},
   "outputs": [],
   "source": [
    "z_score = (sample_mean - population_mean) / std"
   ]
  },
  {
   "cell_type": "code",
   "execution_count": 11,
   "id": "f74537d6-91ba-4aa1-b3ef-01f773620cdd",
   "metadata": {},
   "outputs": [
    {
     "data": {
      "text/plain": [
       "1.0"
      ]
     },
     "execution_count": 11,
     "metadata": {},
     "output_type": "execute_result"
    }
   ],
   "source": [
    "z_score"
   ]
  },
  {
   "cell_type": "code",
   "execution_count": 110,
   "id": "a132b8f1-907c-4be6-b0ac-2df398f726aa",
   "metadata": {},
   "outputs": [],
   "source": [
    "import numpy as np\n",
    "from scipy.stats import t"
   ]
  },
  {
   "cell_type": "code",
   "execution_count": 111,
   "id": "f54e185c-60db-4b37-8b20-03ab927ef2a1",
   "metadata": {},
   "outputs": [],
   "source": [
    "sample_size = 50\n",
    "sample_mean = 6\n",
    "std = 2.5\n",
    "significance_level = 0.025"
   ]
  },
  {
   "cell_type": "code",
   "execution_count": 112,
   "id": "f8784365-726e-4223-b1fb-fbf27b0c2ec6",
   "metadata": {},
   "outputs": [],
   "source": [
    "df = sample_size-1"
   ]
  },
  {
   "cell_type": "code",
   "execution_count": 113,
   "id": "c45aed10-b961-41a7-b691-23f889464514",
   "metadata": {},
   "outputs": [
    {
     "data": {
      "text/plain": [
       "49"
      ]
     },
     "execution_count": 113,
     "metadata": {},
     "output_type": "execute_result"
    }
   ],
   "source": [
    "df"
   ]
  },
  {
   "cell_type": "code",
   "execution_count": 114,
   "id": "1541c043-532b-44ad-9de1-c7aa562fb3db",
   "metadata": {},
   "outputs": [],
   "source": [
    "critical_t_value = t.ppf(significance_level, df)"
   ]
  },
  {
   "cell_type": "code",
   "execution_count": 115,
   "id": "e095a5be-57ba-4962-8f2e-c5e421b1334e",
   "metadata": {},
   "outputs": [
    {
     "data": {
      "text/plain": [
       "-2.0095752344892093"
      ]
     },
     "execution_count": 115,
     "metadata": {},
     "output_type": "execute_result"
    }
   ],
   "source": [
    "critical_t_value"
   ]
  },
  {
   "cell_type": "code",
   "execution_count": 116,
   "id": "5e9c28de-4d5c-4cb0-8696-7ffbe2674734",
   "metadata": {},
   "outputs": [],
   "source": [
    "t_score = (sample_mean - hypothesized_mean) / (std / np.sqrt(sample_size))"
   ]
  },
  {
   "cell_type": "code",
   "execution_count": 117,
   "id": "a2545686-6fa4-4aed-ac37-6d2d970dd75c",
   "metadata": {},
   "outputs": [
    {
     "data": {
      "text/plain": [
       "2.0095752344892097"
      ]
     },
     "execution_count": 117,
     "metadata": {},
     "output_type": "execute_result"
    }
   ],
   "source": [
    "t_score"
   ]
  },
  {
   "cell_type": "code",
   "execution_count": 118,
   "id": "46d3ce40-6f07-471e-b3f8-27a9b0d9ebb9",
   "metadata": {},
   "outputs": [
    {
     "name": "stdout",
     "output_type": "stream",
     "text": [
      " reject the null hypothesis \n"
     ]
    }
   ],
   "source": [
    "if t_score < critical_t_value or t_score > critical_t_value :\n",
    "    print(\" reject the null hypothesis \")\n",
    "    \n",
    "else :\n",
    "    print(\"accept the null hypothesis\")"
   ]
  },
  {
   "cell_type": "code",
   "execution_count": 119,
   "id": "acc7b269-7952-449a-83ce-bf6a389e26bb",
   "metadata": {},
   "outputs": [
    {
     "name": "stdout",
     "output_type": "stream",
     "text": [
      "95% Confidence Interval for the true proportion of people satisfied with their job: [0.6082, 0.6918]\n"
     ]
    }
   ],
   "source": [
    "import numpy as np\n",
    "from scipy.stats import norm\n",
    "\n",
    "# Given data\n",
    "sample_proportion = 0.65\n",
    "sample_size = 500\n",
    "confidence_level = 0.95\n",
    "\n",
    "# Calculate the standard error\n",
    "standard_error = np.sqrt((sample_proportion * (1 - sample_proportion)) / sample_size)\n",
    "\n",
    "# Calculate the Z-score for the desired confidence level\n",
    "Z = norm.ppf(1 - (1 - confidence_level) / 2)\n",
    "\n",
    "# Calculate the margin of error\n",
    "margin_of_error = Z * standard_error\n",
    "\n",
    "# Calculate the confidence interval\n",
    "lower_bound = sample_proportion - margin_of_error\n",
    "upper_bound = sample_proportion + margin_of_error\n",
    "\n",
    "# Print the confidence interval\n",
    "print(f\"95% Confidence Interval for the true proportion of people satisfied with their job: [{lower_bound:.4f}, {upper_bound:.4f}]\")\n"
   ]
  },
  {
   "cell_type": "code",
   "execution_count": 120,
   "id": "4b1a0216-6e7f-4f30-81a2-f5262a9d1340",
   "metadata": {},
   "outputs": [
    {
     "name": "stdout",
     "output_type": "stream",
     "text": [
      "t-statistic: 2.759500731231808\n",
      "p-value: 0.007734065326925146\n",
      "Reject the null hypothesis. There is a significant difference in student performance between the two teaching methods.\n"
     ]
    }
   ],
   "source": [
    "import numpy as np\n",
    "from scipy.stats import ttest_ind\n",
    "\n",
    "# Define sample statistics\n",
    "mean_A = 85\n",
    "std_dev_A = 6\n",
    "n_A = 30  # Assuming sample size for sample A\n",
    "mean_B = 82\n",
    "std_dev_B = 5\n",
    "n_B = 30  # Assuming sample size for sample B\n",
    "\n",
    "# Conduct t-test\n",
    "t_stat, p_value = ttest_ind(np.random.normal(mean_A, std_dev_A, n_A), np.random.normal(mean_B, std_dev_B, n_B))\n",
    "\n",
    "# Print results\n",
    "print(\"t-statistic:\", t_stat)\n",
    "print(\"p-value:\", p_value)\n",
    "\n",
    "# Check significance level\n",
    "alpha = 0.01\n",
    "if p_value < alpha:\n",
    "    print(\"Reject the null hypothesis. There is a significant difference in student performance between the two teaching methods.\")\n",
    "else:\n",
    "    print(\"Fail to reject the null hypothesis. There is no significant difference in student performance between the two teaching methods.\")\n"
   ]
  },
  {
   "cell_type": "code",
   "execution_count": 121,
   "id": "d7ef9c72-ba02-4461-bec4-955954154fa8",
   "metadata": {},
   "outputs": [],
   "source": [
    "import numpy as np\n",
    "import scipy.stats"
   ]
  },
  {
   "cell_type": "code",
   "execution_count": 122,
   "id": "53c715aa-5d9f-4c55-98a1-137bed1f6b1e",
   "metadata": {},
   "outputs": [],
   "source": [
    "population_mean = 60\n",
    "std = 8\n",
    "sample_size = 50\n",
    "sample_mean = 65"
   ]
  },
  {
   "cell_type": "code",
   "execution_count": 123,
   "id": "98c60e99-46d6-4be5-afbe-4fbf9706f0a1",
   "metadata": {},
   "outputs": [],
   "source": [
    "z_critical_left = scipy.stats.norm.ppf(0.05)"
   ]
  },
  {
   "cell_type": "code",
   "execution_count": 124,
   "id": "7fb816a9-7364-4c42-9987-f25ebd02709a",
   "metadata": {},
   "outputs": [
    {
     "data": {
      "text/plain": [
       "-1.6448536269514729"
      ]
     },
     "execution_count": 124,
     "metadata": {},
     "output_type": "execute_result"
    }
   ],
   "source": [
    "z_critical_left"
   ]
  },
  {
   "cell_type": "code",
   "execution_count": 125,
   "id": "c3a6a491-9eef-4c76-8f58-3462b5dd2f56",
   "metadata": {},
   "outputs": [],
   "source": [
    "z_score = (sample_mean- population_mean) / (std / np.sqrt(sample_size)) "
   ]
  },
  {
   "cell_type": "code",
   "execution_count": 126,
   "id": "4ba05ae3-6033-4c08-a09f-77d649fd3ad9",
   "metadata": {},
   "outputs": [
    {
     "data": {
      "text/plain": [
       "4.419417382415922"
      ]
     },
     "execution_count": 126,
     "metadata": {},
     "output_type": "execute_result"
    }
   ],
   "source": [
    "z_score"
   ]
  },
  {
   "cell_type": "code",
   "execution_count": 127,
   "id": "a82b50ee-19e0-4e3e-bd85-acc3a2e9d6ae",
   "metadata": {},
   "outputs": [
    {
     "name": "stdout",
     "output_type": "stream",
     "text": [
      " reject the null hypothesis \n"
     ]
    }
   ],
   "source": [
    "if z_score < z_critical_left or z_score > z_critical_left :\n",
    "    print(\" reject the null hypothesis \")\n",
    "    \n",
    "else :\n",
    "    print(\"accept the null hypothesis\")"
   ]
  },
  {
   "cell_type": "code",
   "execution_count": 128,
   "id": "59a9411c-778a-43ec-84e2-cd7856eee75e",
   "metadata": {},
   "outputs": [],
   "source": [
    "sample_size = 30\n",
    "sample_mean = 0.25\n",
    "std = 0.5\n",
    "significance_level = 0.05"
   ]
  },
  {
   "cell_type": "code",
   "execution_count": 129,
   "id": "1a7db773-494f-4cf2-85b8-3151a909a4de",
   "metadata": {},
   "outputs": [],
   "source": [
    "df = sample_size-1"
   ]
  },
  {
   "cell_type": "code",
   "execution_count": 130,
   "id": "273a2275-2f50-4d65-9ab2-0504dea826ea",
   "metadata": {},
   "outputs": [
    {
     "data": {
      "text/plain": [
       "29"
      ]
     },
     "execution_count": 130,
     "metadata": {},
     "output_type": "execute_result"
    }
   ],
   "source": [
    "df"
   ]
  },
  {
   "cell_type": "code",
   "execution_count": 131,
   "id": "d6794ef4-6485-496c-a07f-ea7acf2165b6",
   "metadata": {},
   "outputs": [],
   "source": [
    "critical_t_value = t.ppf(significance_level, df)"
   ]
  },
  {
   "cell_type": "code",
   "execution_count": 132,
   "id": "52636553-1562-4c7d-8b60-2c77398bfdd8",
   "metadata": {},
   "outputs": [
    {
     "data": {
      "text/plain": [
       "-1.6991270265334977"
      ]
     },
     "execution_count": 132,
     "metadata": {},
     "output_type": "execute_result"
    }
   ],
   "source": [
    "critical_t_value"
   ]
  },
  {
   "cell_type": "code",
   "execution_count": 133,
   "id": "732efc62-91da-4aff-b4e5-0f1c7db960d6",
   "metadata": {},
   "outputs": [],
   "source": [
    "t_score = (sample_mean - hypothesized_mean) / (std / np.sqrt(sample_size))"
   ]
  },
  {
   "cell_type": "code",
   "execution_count": 134,
   "id": "c0a0557d-bfa1-4309-81a2-592d07cd1964",
   "metadata": {},
   "outputs": [
    {
     "data": {
      "text/plain": [
       "-55.20504269696654"
      ]
     },
     "execution_count": 134,
     "metadata": {},
     "output_type": "execute_result"
    }
   ],
   "source": [
    "t_score"
   ]
  },
  {
   "cell_type": "code",
   "execution_count": 135,
   "id": "9c611ce5-2a1a-4b8c-a593-e5791f3f27b3",
   "metadata": {},
   "outputs": [
    {
     "name": "stdout",
     "output_type": "stream",
     "text": [
      " reject the null hypothesis \n"
     ]
    }
   ],
   "source": [
    "if t_score < critical_t_value or t_score > critical_t_value :\n",
    "    print(\" reject the null hypothesis \")\n",
    "    \n",
    "else :\n",
    "    print(\"accept the null hypothesis\")"
   ]
  },
  {
   "cell_type": "code",
   "execution_count": null,
   "id": "3368c60a-9f51-42ab-a767-87eecf66366f",
   "metadata": {},
   "outputs": [],
   "source": []
  },
  {
   "cell_type": "code",
   "execution_count": null,
   "id": "60b5b4c4-bd12-41dc-af83-dd8213f8ed44",
   "metadata": {},
   "outputs": [],
   "source": []
  },
  {
   "cell_type": "code",
   "execution_count": null,
   "id": "d83e9ee6-402d-4e66-8484-fccefe9f3f70",
   "metadata": {},
   "outputs": [],
   "source": []
  }
 ],
 "metadata": {
  "kernelspec": {
   "display_name": "Python 3 (ipykernel)",
   "language": "python",
   "name": "python3"
  },
  "language_info": {
   "codemirror_mode": {
    "name": "ipython",
    "version": 3
   },
   "file_extension": ".py",
   "mimetype": "text/x-python",
   "name": "python",
   "nbconvert_exporter": "python",
   "pygments_lexer": "ipython3",
   "version": "3.10.8"
  }
 },
 "nbformat": 4,
 "nbformat_minor": 5
}
