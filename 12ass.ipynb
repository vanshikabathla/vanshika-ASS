{
 "cells": [
  {
   "cell_type": "code",
   "execution_count": 21,
   "id": "fab1be9a-0b29-46c4-9254-fb6d13becccb",
   "metadata": {},
   "outputs": [
    {
     "name": "stdout",
     "output_type": "stream",
     "text": [
      "95% Confidence Interval for the true proportion of smokers: (0.0915, 0.1485)\n"
     ]
    }
   ],
   "source": [
    "import numpy as np\n",
    "import scipy.stats as stats\n",
    "\n",
    "# Sample size\n",
    "n = 500\n",
    "\n",
    "# Number of individuals who smoke\n",
    "x = 60\n",
    "\n",
    "# Calculate the sample proportion\n",
    "p_hat = x / n\n",
    "\n",
    "# Calculate the standard error\n",
    "standard_error = np.sqrt(p_hat * (1 - p_hat) / n)\n",
    "\n",
    "# Degrees of freedom for the chi-square distribution\n",
    "df = 1\n",
    "\n",
    "# Calculate the chi-square value for a 95% confidence interval\n",
    "chi_square_value = stats.chi2.ppf(0.95, df)\n",
    "\n",
    "# Calculate the margin of error\n",
    "margin_of_error = np.sqrt(p_hat * (1 - p_hat) / n * chi_square_value)\n",
    "\n",
    "# Calculate the confidence interval\n",
    "lower_bound = p_hat - margin_of_error\n",
    "upper_bound = p_hat + margin_of_error\n",
    "\n",
    "print(\"95% Confidence Interval for the true proportion of smokers: ({:.4f}, {:.4f})\".format(lower_bound, upper_bound))\n"
   ]
  },
  {
   "cell_type": "code",
   "execution_count": 22,
   "id": "e4d5f162-71ce-49a9-a999-3af30b64fbf7",
   "metadata": {},
   "outputs": [
    {
     "name": "stdout",
     "output_type": "stream",
     "text": [
      "Chi-square Statistic: 1.7307692307692308\n",
      "P-value: 0.8850007854079284\n",
      "Fail to reject the null hypothesis. The distribution of colors in the bag matches the expected distribution.\n"
     ]
    }
   ],
   "source": [
    "import numpy as np\n",
    "from scipy.stats import chi2\n",
    "\n",
    "# Define the observed frequencies of each color in the bag\n",
    "observed_frequencies = np.array([30, 25, 25, 15, 10, 25])  # Blue, Orange, Green, Yellow, Red, Brown\n",
    "\n",
    "# Define the expected distribution\n",
    "expected_distribution = np.array([0.2, 0.2, 0.2, 0.1, 0.1, 0.2])  # 20% blue, 20% orange, 20% green, 10% yellow, 10% red, 20% brown\n",
    "\n",
    "# Total number of M&Ms in the bag\n",
    "total_mms = observed_frequencies.sum()\n",
    "\n",
    "# Calculate the expected frequencies based on the expected distribution\n",
    "expected_frequencies = expected_distribution * total_mms\n",
    "\n",
    "# Calculate the chi-square statistic\n",
    "chi2_stat = np.sum((observed_frequencies - expected_frequencies)**2 / expected_frequencies)\n",
    "\n",
    "# Degrees of freedom\n",
    "degrees_of_freedom = len(observed_frequencies) - 1\n",
    "\n",
    "# Calculate the p-value\n",
    "p_value = 1 - chi2.cdf(chi2_stat, degrees_of_freedom)\n",
    "\n",
    "# Significance level\n",
    "significance_level = 0.05\n",
    "\n",
    "print(\"Chi-square Statistic:\", chi2_stat)\n",
    "print(\"P-value:\", p_value)\n",
    "\n",
    "# Interpret the results\n",
    "if p_value < significance_level:\n",
    "    print(\"Reject the null hypothesis. The distribution of colors in the bag does not match the expected distribution.\")\n",
    "else:\n",
    "    print(\"Fail to reject the null hypothesis. The distribution of colors in the bag matches the expected distribution.\")\n"
   ]
  },
  {
   "cell_type": "code",
   "execution_count": 20,
   "id": "7d0ef456-0f79-452a-949a-361109f9db18",
   "metadata": {},
   "outputs": [
    {
     "name": "stdout",
     "output_type": "stream",
     "text": [
      "Chi-square Statistic: 5.833333333333334\n",
      "P-value: 0.05411376622282158\n"
     ]
    }
   ],
   "source": [
    "import numpy as np\n",
    "from scipy.stats import chi2_contingency\n",
    "\n",
    "# Create the contingency table\n",
    "data = np.array([[20, 15],\n",
    "                 [10, 25],\n",
    "                 [15, 20]])\n",
    "\n",
    "# Calculate chi-square statistic, p-value, degrees of freedom, and expected frequencies\n",
    "chi2_stat, p_val, dof, expected = chi2_contingency(data)\n",
    "\n",
    "print(\"Chi-square Statistic:\", chi2_stat)\n",
    "print(\"P-value:\", p_val)\n"
   ]
  },
  {
   "cell_type": "code",
   "execution_count": 1,
   "id": "823d2973-05f0-40e2-a75b-3c5c5df879da",
   "metadata": {},
   "outputs": [
    {
     "name": "stdout",
     "output_type": "stream",
     "text": [
      "95% Confidence Interval for the true proportion of smokers: (0.0915, 0.1485)\n"
     ]
    }
   ],
   "source": [
    "import numpy as np\n",
    "import scipy.stats as stats\n",
    "\n",
    "# Sample size\n",
    "n = 500\n",
    "\n",
    "# Number of individuals who smoke\n",
    "x = 60\n",
    "\n",
    "# Calculate the sample proportion\n",
    "p_hat = x / n\n",
    "\n",
    "# Calculate the standard error\n",
    "standard_error = np.sqrt(p_hat * (1 - p_hat) / n)\n",
    "\n",
    "# Degrees of freedom for the chi-square distribution\n",
    "df = 1\n",
    "\n",
    "# Calculate the chi-square value for a 95% confidence interval\n",
    "chi_square_value = stats.chi2.ppf(0.95, df)\n",
    "\n",
    "# Calculate the margin of error\n",
    "margin_of_error = np.sqrt(p_hat * (1 - p_hat) / n * chi_square_value)\n",
    "\n",
    "# Calculate the confidence interval\n",
    "lower_bound = p_hat - margin_of_error\n",
    "upper_bound = p_hat + margin_of_error\n",
    "\n",
    "print(\"95% Confidence Interval for the true proportion of smokers: ({:.4f}, {:.4f})\".format(lower_bound, upper_bound))\n"
   ]
  },
  {
   "cell_type": "code",
   "execution_count": 23,
   "id": "678d1bd0-c53e-4bf6-a7c4-dd12adcefa32",
   "metadata": {},
   "outputs": [
    {
     "name": "stdout",
     "output_type": "stream",
     "text": [
      "90% Confidence Interval: (73.03, 76.97)\n"
     ]
    }
   ],
   "source": [
    "import scipy.stats as stats\n",
    "\n",
    "# Sample mean\n",
    "mean = 75\n",
    "\n",
    "# Standard deviation\n",
    "std_dev = 12\n",
    "\n",
    "# Sample size (assuming a large enough sample for the z-distribution to be applicable)\n",
    "sample_size = 100\n",
    "\n",
    "# Confidence level\n",
    "confidence_level = 0.90\n",
    "\n",
    "# Calculate the standard error\n",
    "standard_error = std_dev / (sample_size ** 0.5)\n",
    "\n",
    "# Calculate the margin of error\n",
    "margin_of_error = stats.norm.ppf((1 + confidence_level) / 2) * standard_error\n",
    "\n",
    "# Calculate the confidence interval\n",
    "lower_bound = mean - margin_of_error\n",
    "upper_bound = mean + margin_of_error\n",
    "\n",
    "print(\"90% Confidence Interval: ({:.2f}, {:.2f})\".format(lower_bound, upper_bound))\n"
   ]
  },
  {
   "cell_type": "code",
   "execution_count": 24,
   "id": "07feb071-d1c0-45f9-9f17-faf5c53adf7e",
   "metadata": {},
   "outputs": [
    {
     "data": {
      "image/png": "[encoded data removed]",
      "text/plain": [
       "<Figure size 640x480 with 1 Axes>"
      ]
     },
     "metadata": {},
     "output_type": "display_data"
    }
   ],
   "source": [
    "import numpy as np\n",
    "import matplotlib.pyplot as plt\n",
    "import scipy.stats as stats\n",
    "\n",
    "# Degrees of freedom\n",
    "df = 10\n",
    "\n",
    "# Chi-square statistic to shade\n",
    "chi2_stat = 15\n",
    "\n",
    "# Generate x values for the plot\n",
    "x = np.linspace(0, 30, 1000)\n",
    "\n",
    "# Calculate the chi-square probability density function (PDF) for the given degrees of freedom\n",
    "y = stats.chi2.pdf(x, df)\n",
    "\n",
    "# Plot the chi-square distribution\n",
    "plt.plot(x, y, 'b-', label=f'Chi-square Distribution (df={df})')\n",
    "\n",
    "# Shade the area corresponding to the chi-square statistic\n",
    "plt.fill_between(x, 0, y, where=(x >= chi2_stat), color='orange', alpha=0.5, label=f'Chi-square Statistic = {chi2_stat}')\n",
    "\n",
    "# Add labels and legend\n",
    "plt.xlabel('Chi-square Value')\n",
    "plt.ylabel('Probability Density Function')\n",
    "plt.title('Chi-square Distribution')\n",
    "plt.legend()\n",
    "\n",
    "# Show plot\n",
    "plt.grid(True)\n",
    "plt.show()\n"
   ]
  },
  {
   "cell_type": "code",
   "execution_count": 25,
   "id": "6e78e2e6-98cb-4384-ad3b-afb7c95269b0",
   "metadata": {},
   "outputs": [
    {
     "name": "stdout",
     "output_type": "stream",
     "text": [
      "99% Confidence Interval for the true proportion of people who prefer Coke: (0.4793, 0.5607)\n"
     ]
    }
   ],
   "source": [
    "import scipy.stats as stats\n",
    "\n",
    "# Sample size\n",
    "n = 1000\n",
    "\n",
    "# Number of people who preferred Coke in the sample\n",
    "x = 520\n",
    "\n",
    "# Sample proportion\n",
    "p_hat = x / n\n",
    "\n",
    "# Z-score for a 99% confidence level\n",
    "Z = stats.norm.ppf(0.995)\n",
    "\n",
    "# Calculate the standard error\n",
    "standard_error = (p_hat * (1 - p_hat) / n) ** 0.5\n",
    "\n",
    "# Calculate the margin of error\n",
    "margin_of_error = Z * standard_error\n",
    "\n",
    "# Calculate the confidence interval\n",
    "lower_bound = p_hat - margin_of_error\n",
    "upper_bound = p_hat + margin_of_error\n",
    "\n",
    "print(\"99% Confidence Interval for the true proportion of people who prefer Coke: ({:.4f}, {:.4f})\".format(lower_bound, upper_bound))\n"
   ]
  },
  {
   "cell_type": "code",
   "execution_count": 26,
   "id": "f414d92e-8303-4699-ac53-392da0d1af2d",
   "metadata": {},
   "outputs": [
    {
     "name": "stdout",
     "output_type": "stream",
     "text": [
      "Chi-square Statistic: 0.3208020050125313\n",
      "P-value: 0.5711260675200032\n",
      "Fail to reject the null hypothesis. The observed frequencies match the expected frequencies of a fair coin.\n"
     ]
    }
   ],
   "source": [
    "import numpy as np\n",
    "from scipy.stats import chi2_contingency\n",
    "\n",
    "# Define the observed frequencies (number of tails observed)\n",
    "observed_tails = 45\n",
    "\n",
    "# Total number of trials (coin flips)\n",
    "total_trials = 100\n",
    "\n",
    "# Define the expected frequencies for a fair coin\n",
    "expected_tails = total_trials / 2  # For a fair coin, the expected number of tails is half the total trials\n",
    "\n",
    "# Create the contingency table\n",
    "observed_frequencies = np.array([observed_tails, total_trials - observed_tails])\n",
    "expected_frequencies = np.array([expected_tails, total_trials - expected_tails])\n",
    "\n",
    "# Perform the chi-square goodness of fit test\n",
    "chi2_stat, p_val = chi2_contingency([observed_frequencies, expected_frequencies])[0:2]\n",
    "\n",
    "# Significance level\n",
    "significance_level = 0.05\n",
    "\n",
    "print(\"Chi-square Statistic:\", chi2_stat)\n",
    "print(\"P-value:\", p_val)\n",
    "\n",
    "# Interpret the results\n",
    "if p_val < significance_level:\n",
    "    print(\"Reject the null hypothesis. The observed frequencies do not match the expected frequencies of a fair coin.\")\n",
    "else:\n",
    "    print(\"Fail to reject the null hypothesis. The observed frequencies match the expected frequencies of a fair coin.\")\n"
   ]
  },
  {
   "cell_type": "code",
   "execution_count": 27,
   "id": "a5c7f380-1eaa-4d38-b222-f0a96b93aad8",
   "metadata": {},
   "outputs": [
    {
     "name": "stdout",
     "output_type": "stream",
     "text": [
      "Chi-square Statistic: 5.833333333333334\n",
      "P-value: 0.05411376622282158\n",
      "Fail to reject the null hypothesis. There is no significant association between smoking status and lung cancer diagnosis.\n"
     ]
    }
   ],
   "source": [
    "import numpy as np\n",
    "from scipy.stats import chi2_contingency\n",
    "\n",
    "# Define the observed frequencies in the contingency table\n",
    "observed_frequencies = np.array([[20, 15],\n",
    "                                 [10, 25],\n",
    "                                 [15, 20]])\n",
    "\n",
    "# Perform the chi-square test for independence\n",
    "chi2_stat, p_val, dof, expected = chi2_contingency(observed_frequencies)\n",
    "\n",
    "# Significance level\n",
    "significance_level = 0.05\n",
    "\n",
    "print(\"Chi-square Statistic:\", chi2_stat)\n",
    "print(\"P-value:\", p_val)\n",
    "\n",
    "# Interpret the results\n",
    "if p_val < significance_level:\n",
    "    print(\"Reject the null hypothesis. There is a significant association between smoking status and lung cancer diagnosis.\")\n",
    "else:\n",
    "    print(\"Fail to reject the null hypothesis. There is no significant association between smoking status and lung cancer diagnosis.\")\n"
   ]
  },
  {
   "cell_type": "code",
   "execution_count": 28,
   "id": "74d5f9e8-4051-451e-96f5-8e0a4003eb7b",
   "metadata": {},
   "outputs": [
    {
     "name": "stdout",
     "output_type": "stream",
     "text": [
      "Chi-square Statistic: 13.393665158371041\n",
      "P-value: 0.0012348168997745918\n",
      "Reject the null hypothesis. There is a significant association between chocolate preference and country of origin.\n"
     ]
    }
   ],
   "source": [
    "import numpy as np\n",
    "from scipy.stats import chi2_contingency\n",
    "\n",
    "# Define the observed frequencies in the contingency table\n",
    "observed_frequencies = np.array([[200, 150, 150],\n",
    "                                 [225, 175, 100]])\n",
    "\n",
    "# Perform the chi-square test for independence\n",
    "chi2_stat, p_val, dof, expected = chi2_contingency(observed_frequencies)\n",
    "\n",
    "# Significance level\n",
    "significance_level = 0.01\n",
    "\n",
    "print(\"Chi-square Statistic:\", chi2_stat)\n",
    "print(\"P-value:\", p_val)\n",
    "\n",
    "# Interpret the results\n",
    "if p_val < significance_level:\n",
    "    print(\"Reject the null hypothesis. There is a significant association between chocolate preference and country of origin.\")\n",
    "else:\n",
    "    print(\"Fail to reject the null hypothesis. There is no significant association between chocolate preference and country of origin.\")\n"
   ]
  },
  {
   "cell_type": "code",
   "execution_count": null,
   "id": "17cd56d2-0643-4911-b8d9-4fc119f0a899",
   "metadata": {},
   "outputs": [],
   "source": []
  }
 ],
 "metadata": {
  "kernelspec": {
   "display_name": "Python 3 (ipykernel)",
   "language": "python",
   "name": "python3"
  },
  "language_info": {
   "codemirror_mode": {
    "name": "ipython",
    "version": 3
   },
   "file_extension": ".py",
   "mimetype": "text/x-python",
   "name": "python",
   "nbconvert_exporter": "python",
   "pygments_lexer": "ipython3",
   "version": "3.10.8"
  }
 },
 "nbformat": 4,
 "nbformat_minor": 5
}
