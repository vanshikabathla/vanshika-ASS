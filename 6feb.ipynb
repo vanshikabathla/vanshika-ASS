{
 "cells": [
  {
   "cell_type": "code",
   "execution_count": 2,
   "id": "f3f69280-e649-48ff-9976-c24c87b02b98",
   "metadata": {},
   "outputs": [],
   "source": [
    "list1 = [1,2,3,4, [44,55,66, True], False, (34,56,78,89,34), {1,2,3,3,2,1}, {1:34, \"key2\": [55, 67, 78, 89], 4: (45,\n",
    "22, 61, 34)}, [56, 'data science'], 'Machine Learning']"
   ]
  },
  {
   "cell_type": "code",
   "execution_count": 3,
   "id": "ed41a9c7-a824-49f6-ba12-c2337a115750",
   "metadata": {},
   "outputs": [],
   "source": [
    "from functools import reduce "
   ]
  },
  {
   "cell_type": "code",
   "execution_count": 4,
   "id": "60541f3c-c567-43b4-a75b-a8974524e9fd",
   "metadata": {},
   "outputs": [
    {
     "data": {
      "text/plain": [
       "[1,\n",
       " 2,\n",
       " 3,\n",
       " 4,\n",
       " [44, 55, 66, True],\n",
       " False,\n",
       " (34, 56, 78, 89, 34),\n",
       " {1, 2, 3},\n",
       " {1: 34, 'key2': [55, 67, 78, 89], 4: (45, 22, 61, 34)},\n",
       " [56, 'data science'],\n",
       " 'Machine Learning']"
      ]
     },
     "execution_count": 4,
     "metadata": {},
     "output_type": "execute_result"
    }
   ],
   "source": [
    "reduce(lambda x , y : x*y , [list1])"
   ]
  },
  {
   "cell_type": "code",
   "execution_count": 5,
   "id": "a45cf22e-2e10-42da-b9f4-1f1b8ed9e3fc",
   "metadata": {},
   "outputs": [
    {
     "name": "stdout",
     "output_type": "stream",
     "text": [
      "Encrypted Message: r$dzmg$gl$yvxlnv$z$wzgz$hxrvmgrhg.\n"
     ]
    }
   ],
   "source": [
    "def encrypt_message(message):\n",
    "    encrypted = \"\"\n",
    "    for char in message:\n",
    "        if char.isalpha():\n",
    "            # Encrypt alphab\n",
    "            encrypted += chr(ord('z') - (ord(char) - ord('a')))\n",
    "        elif char.isspace():\n",
    "            # Replace whitespace with a dollar sign\n",
    "            encrypted += '$'\n",
    "        else:\n",
    "            # Keep punctuation marks unchanged\n",
    "            encrypted += char\n",
    "\n",
    "    return encrypted\n",
    "\n",
    "# Input Sentence\n",
    "input_sentence = \"I want to become a Data Scientist.\"\n",
    "\n",
    "# Convert to lowercase and encrypt the message\n",
    "encrypted_message = encrypt_message(input_sentence.lower())\n",
    "\n",
    "# Print the encrypted message\n",
    "print(\"Encrypted Message:\", encrypted_message)\n"
   ]
  },
  {
   "cell_type": "code",
   "execution_count": null,
   "id": "6a41bdd3-0dc7-4329-a795-f361a72d5e62",
   "metadata": {},
   "outputs": [],
   "source": []
  }
 ],
 "metadata": {
  "kernelspec": {
   "display_name": "Python 3 (ipykernel)",
   "language": "python",
   "name": "python3"
  },
  "language_info": {
   "codemirror_mode": {
    "name": "ipython",
    "version": 3
   },
   "file_extension": ".py",
   "mimetype": "text/x-python",
   "name": "python",
   "nbconvert_exporter": "python",
   "pygments_lexer": "ipython3",
   "version": "3.10.8"
  }
 },
 "nbformat": 4,
 "nbformat_minor": 5
}
