{
 "cells": [
  {
   "cell_type": "code",
   "execution_count": null,
   "id": "4779dc0d-7468-4101-8775-66698067e07f",
   "metadata": {},
   "outputs": [],
   "source": [
    "Assumptions of ANOVA \n",
    "\n",
    "1. Normality of Sampling Distribution - The distribution of sample meanis normally distributed.\n",
    "\n",
    "2. Absence of Outliers - Outlying score need to be removed from dataset.\n",
    "\n",
    "3.Homogenity of Variance - Each one of the population has some variance.\n",
    "Population Variance in different levels of each independent variable are equal.\n",
    "\n",
    "4. Samples are independent and random "
   ]
  },
  {
   "cell_type": "code",
   "execution_count": null,
   "id": "68f06918-dadd-4089-ab97-deecbe16368a",
   "metadata": {},
   "outputs": [],
   "source": [
    "Three types of ANOVA are -\n",
    "\n",
    "1. One way ANOVA- one factor with atleast two level and these levels are independent.\n",
    "\n",
    "2. Repeated Measure ANOVA - one factor with atleast 2 levels and these levels are dependent.\n",
    "\n",
    "3. Factorial ANOVA - Two or more factors each of which with atleast 2 levels , levels can be either independent and dependents. "
   ]
  },
  {
   "cell_type": "code",
   "execution_count": null,
   "id": "7c18f363-1d53-48c6-9cdc-8d532d4c2b4d",
   "metadata": {},
   "outputs": [],
   "source": [
    "Variance partitioning enables us to better understand the effects of our predictor variables on the response variable. Variance partitioning works by computing variance explained by variables in partial models.\n",
    "Partial models are models creating using a subset of the predictor variables in the full RDA / CCA / multiple linear model."
   ]
  },
  {
   "cell_type": "code",
   "execution_count": null,
   "id": "08c717ca-0722-46c4-a0f7-da656f778884",
   "metadata": {},
   "outputs": [],
   "source": [
    "1. Sum of Squares Total (SST) – The sum of squared differences between individual data points (yi) and the mean of the response variable (y).\n",
    "\n",
    "SST = Σ(yi – y)2\n",
    "\n",
    "2. Sum of Squares Regression (SSR) – The sum of squared differences between predicted data points (ŷi) and the mean of the response variable(y).\n",
    "\n",
    "SSR = Σ(ŷi – y)2\n",
    "\n",
    "3. Sum of Squares Error (SSE) – The sum of squared differences between predicted data points (ŷi) and observed data points (yi).\n",
    "\n",
    "SSE = Σ(ŷi – yi)2"
   ]
  },
  {
   "cell_type": "code",
   "execution_count": null,
   "id": "954b64f9-405d-43ca-a13d-e8f672876599",
   "metadata": {},
   "outputs": [],
   "source": [
    "To calculate the main effects and interaction effects in a two-way ANOVA using Python, you can use the statsmodels library."
   ]
  },
  {
   "cell_type": "code",
   "execution_count": 1,
   "id": "230a351f-3bdf-43fd-bf82-ac920c7ce17f",
   "metadata": {},
   "outputs": [
    {
     "name": "stdout",
     "output_type": "stream",
     "text": [
      "F-statistic: 0.5\n",
      "p-value: 0.6186248513251718\n",
      "The differences between the groups are not statistically significant.\n",
      "Fail to reject the null hypothesis.\n"
     ]
    }
   ],
   "source": [
    "from scipy.stats import f_oneway\n",
    "\n",
    "# Sample data for three groups\n",
    "group1 = [10, 12, 14, 16, 18]\n",
    "group2 = [9, 11, 13, 15, 17]\n",
    "group3 = [8, 10, 12, 14, 16]\n",
    "\n",
    "# Perform one-way ANOVA\n",
    "f_statistic, p_value = f_oneway(group1, group2, group3)\n",
    "\n",
    "# Interpret the results\n",
    "print(\"F-statistic:\", f_statistic)\n",
    "print(\"p-value:\", p_value)\n",
    "\n",
    "# Interpretation\n",
    "alpha = 0.05\n",
    "if p_value < alpha:\n",
    "    print(\"The differences between the groups are statistically significant.\")\n",
    "    print(\"Reject the null hypothesis.\")\n",
    "else:\n",
    "    print(\"The differences between the groups are not statistically significant.\")\n",
    "    print(\"Fail to reject the null hypothesis.\")\n"
   ]
  },
  {
   "cell_type": "code",
   "execution_count": null,
   "id": "5bfb2052-4204-4c32-9062-559ef54ec6fa",
   "metadata": {},
   "outputs": [],
   "source": [
    "\n",
    "Handling missing data in repeated measures ANOVA requires careful consideration, as it can affect the validity and reliability of your results. Here are some common methods for handling missing data in repeated measures ANOVA, along with potential consequences of each:\n",
    "\n",
    "Complete Case Analysis (CCA):\n",
    "\n",
    "In this approach, only cases with complete data across all time points are included in the analysis.\n",
    "Pros: Simple to implement, does not involve imputation.\n",
    "Cons: Can lead to biased estimates if data are missing not at random (MNAR). Reduces sample size, potentially reducing power.\n",
    "Pairwise Deletion:\n",
    "\n",
    "Analyze available data for each pair of time points, excluding cases with missing data for that specific pair.\n",
    "Pros: Retains more data compared to complete case analysis.\n",
    "Cons: May introduce bias if missingness is related to the outcome. Variability in sample size across comparisons.\n",
    "Imputation Methods:\n",
    "\n",
    "Replace missing values with estimated values based on observed data.\n",
    "Common imputation methods include mean imputation, last observation carried forward (LOCF), linear interpolation, or multiple imputation.\n",
    "Pros: Retains all cases and preserves sample size. Can reduce bias if missing data are ignorable.\n",
    "Cons: May introduce bias if the missing data mechanism is not ignorable. Imputation methods can also inflate standard errors and lead to incorrect statistical inference if the assumptions are violated.\n",
    "Maximum Likelihood Estimation (MLE):\n",
    "\n",
    "MLE estimates the model parameters by maximizing the likelihood function, accounting for missing data.\n",
    "Pros: Utilizes all available data, provides unbiased estimates if data are missing at random (MAR).\n",
    "Cons: Requires sophisticated statistical software. Assumes data are missing at random (MAR), which may not always be true.\n",
    "Sensitivity Analysis:\n",
    "\n",
    "Conduct the analysis"
   ]
  },
  {
   "cell_type": "code",
   "execution_count": null,
   "id": "38c65ef0-6051-46f6-bf9b-30f4032324ab",
   "metadata": {},
   "outputs": [],
   "source": [
    "After conducting an ANOVA and finding a significant result, post-hoc tests are often used to determine which specific groups differ from each other. Here are some common post-hoc tests and when they might be used:\n",
    "\n",
    "Tukey's Honestly Significant Difference (Tukey's HSD):\n",
    "\n",
    "Use when you have equal sample sizes and want to compare all possible pairs of means.\n",
    "Provides simultaneous confidence intervals for all pairwise differences.\n",
    "Controls the familywise error rate, maintaining an overall Type I error rate.\n",
    "Bonferroni Correction:\n",
    "\n",
    "Use when conducting multiple pairwise comparisons.\n",
    "Adjusts the significance level for each comparison to maintain an overall familywise error rate.\n",
    "Can be overly conservative when conducting many comparisons."
   ]
  },
  {
   "cell_type": "code",
   "execution_count": 4,
   "id": "8771aa22-4446-452c-acb5-5bd645af087b",
   "metadata": {},
   "outputs": [
    {
     "name": "stdout",
     "output_type": "stream",
     "text": [
      "F-statistic: 42.96295799221579\n",
      "p-value: 2.6922698851821163e-15\n",
      "There is a significant difference between the mean weight loss of the three diets.\n"
     ]
    }
   ],
   "source": [
    "from scipy.stats import f_oneway\n",
    "\n",
    "# Weight loss data for each diet\n",
    "diet_A = [5, 7, 6, 8, 5, 6, 7, 6, 7, 8, 6, 5, 7, 8, 6, 7, 6, 5, 7, 6, 8, 5, 6, 7, 6, 7, 8, 6, 5, 7, 8, 6, 7, 6, 5, 7, 6, 8, 5, 6, 7, 6, 7, 8, 6, 5, 7, 8]\n",
    "diet_B = [4, 5, 6, 5, 7, 5, 6, 7, 4, 5, 6, 5, 7, 5, 6, 7, 4, 5, 6, 5, 7, 5, 6, 7, 4, 5, 6, 5, 7, 5, 6, 7, 4, 5, 6, 5, 7, 5, 6, 7, 4, 5, 6, 5, 7, 5, 6, 7]\n",
    "diet_C = [3, 4, 5, 6, 3, 4, 5, 6, 3, 4, 5, 6, 3, 4, 5, 6, 3, 4, 5, 6, 3, 4, 5, 6, 3, 4, 5, 6, 3, 4, 5, 6, 3, 4, 5, 6, 3, 4, 5, 6, 3, 4, 5, 6, 3, 4, 5, 6]\n",
    "\n",
    "# Perform one-way ANOVA\n",
    "f_statistic, p_value = f_oneway(diet_A, diet_B, diet_C)\n",
    "\n",
    "# Report the results\n",
    "print(\"F-statistic:\", f_statistic)\n",
    "print(\"p-value:\", p_value)\n",
    "\n",
    "# Interpret the results\n",
    "alpha = 0.05\n",
    "if p_value < alpha:\n",
    "    print(\"There is a significant difference between the mean weight loss of the three diets.\")\n",
    "else:\n",
    "    print(\"There is no significant difference between the mean weight loss of the three diets.\")\n"
   ]
  },
  {
   "cell_type": "code",
   "execution_count": 5,
   "id": "c2401d44-5c1b-4b4f-89be-18a033e6111f",
   "metadata": {},
   "outputs": [
    {
     "name": "stdout",
     "output_type": "stream",
     "text": [
      "F-statistic: 227.60182783747146\n",
      "p-value: 1.9975427246159718e-48\n",
      "There is a significant difference in the average time it takes to complete the task between the software programs and/or employee experience levels.\n"
     ]
    }
   ],
   "source": [
    "from scipy.stats import f_oneway\n",
    "import numpy as np\n",
    "\n",
    "# Sample data\n",
    "program_A = [10, 12, 11, 9, 10, 14, 13, 11, 12, 10, 15, 13, 12, 11, 14, 16, 15, 12, 11, 13, 18, 17, 16, 14, 12, 13, 15, 19, 18, 17]\n",
    "program_B = [8, 10, 9, 11, 10, 13, 12, 10, 11, 9, 14, 12, 11, 10, 13, 15, 14, 11, 10, 12, 16, 15, 14, 12, 10, 11, 13, 17, 16, 15]\n",
    "program_C = [7, 9, 8, 10, 9, 12, 11, 9, 10, 8, 13, 11, 10, 9, 12, 14, 13, 10, 9, 11, 15, 14, 13, 11, 9, 10, 12, 16, 15, 14]\n",
    "\n",
    "# Experience level (0 for novice, 1 for experienced)\n",
    "experience_level = [0, 0, 0, 0, 0, 1, 1, 1, 1, 1] * 3\n",
    "\n",
    "# Perform two-way ANOVA\n",
    "F_statistic, p_value = f_oneway(program_A, program_B, program_C, experience_level)\n",
    "\n",
    "# Report the results\n",
    "print(\"F-statistic:\", F_statistic)\n",
    "print(\"p-value:\", p_value)\n",
    "\n",
    "# Interpret the results\n",
    "alpha = 0.05\n",
    "if p_value < alpha:\n",
    "    print(\"There is a significant difference in the average time it takes to complete the task between the software programs and/or employee experience levels.\")\n",
    "else:\n",
    "    print(\"There is no significant difference in the average time it takes to complete the task between the software programs and employee experience levels.\")\n"
   ]
  },
  {
   "cell_type": "code",
   "execution_count": 6,
   "id": "b7f37ca3-87dd-4946-b566-44b9f2707ebc",
   "metadata": {},
   "outputs": [
    {
     "name": "stdout",
     "output_type": "stream",
     "text": [
      "Two-sample t-test:\n",
      "t-statistic: -3.597192759749614\n",
      "p-value: 0.0004062796020362504\n",
      "There is a significant difference in test scores between the control and experimental groups.\n",
      "\n",
      "Post-hoc test (Tukey's HSD):\n",
      "   Multiple Comparison of Means - Tukey HSD, FWER=0.05   \n",
      "=========================================================\n",
      " group1    group2    meandiff p-adj  lower  upper  reject\n",
      "---------------------------------------------------------\n",
      "Control Experimental    5.222 0.0004 2.3593 8.0848   True\n",
      "---------------------------------------------------------\n"
     ]
    }
   ],
   "source": [
    "from scipy.stats import ttest_ind\n",
    "from statsmodels.stats.multicomp import pairwise_tukeyhsd\n",
    "import numpy as np\n",
    "\n",
    "# Generate sample data (test scores for control and experimental groups)\n",
    "np.random.seed(0)  # for reproducibility\n",
    "control_group = np.random.normal(loc=70, scale=10, size=100)  # control group with mean 70 and standard deviation 10\n",
    "experimental_group = np.random.normal(loc=75, scale=10, size=100)  # experimental group with mean 75 and standard deviation 10\n",
    "\n",
    "# Perform two-sample t-test\n",
    "t_statistic, p_value = ttest_ind(control_group, experimental_group)\n",
    "\n",
    "# Report the results of the t-test\n",
    "print(\"Two-sample t-test:\")\n",
    "print(\"t-statistic:\", t_statistic)\n",
    "print(\"p-value:\", p_value)\n",
    "\n",
    "# Interpret the results of the t-test\n",
    "alpha = 0.05\n",
    "if p_value < alpha:\n",
    "    print(\"There is a significant difference in test scores between the control and experimental groups.\")\n",
    "else:\n",
    "    print(\"There is no significant difference in test scores between the control and experimental groups.\")\n",
    "\n",
    "# Perform post-hoc test (Tukey's HSD) if the results are significant\n",
    "if p_value < alpha:\n",
    "    # Combine test scores and group labels\n",
    "    all_scores = np.concatenate([control_group, experimental_group])\n",
    "    group_labels = ['Control'] * len(control_group) + ['Experimental'] * len(experimental_group)\n",
    "    \n",
    "    # Perform Tukey's HSD test\n",
    "    tukey_results = pairwise_tukeyhsd(all_scores, group_labels)\n",
    "    \n",
    "    # Report the results of the post-hoc test\n",
    "    print(\"\\nPost-hoc test (Tukey's HSD):\")\n",
    "    print(tukey_results)\n"
   ]
  },
  {
   "cell_type": "code",
   "execution_count": 7,
   "id": "91de2a2b-bcba-49a5-8d8c-1a4fd974c82c",
   "metadata": {},
   "outputs": [
    {
     "name": "stdout",
     "output_type": "stream",
     "text": [
      "               Anova\n",
      "===================================\n",
      "      F Value Num DF  Den DF Pr > F\n",
      "-----------------------------------\n",
      "Store 16.4627 2.0000 58.0000 0.0000\n",
      "===================================\n",
      "\n"
     ]
    },
    {
     "ename": "AttributeError",
     "evalue": "'AnovaResults' object has no attribute 'pvalues'",
     "output_type": "error",
     "traceback": [
      "\u001b[0;31m---------------------------------------------------------------------------\u001b[0m",
      "\u001b[0;31mAttributeError\u001b[0m                            Traceback (most recent call last)",
      "Cell \u001b[0;32mIn[7], line 28\u001b[0m\n\u001b[1;32m     25\u001b[0m \u001b[38;5;28mprint\u001b[39m(rm_anova)\n\u001b[1;32m     27\u001b[0m \u001b[38;5;66;03m# Perform post-hoc test (Tukey's HSD) if the results are significant\u001b[39;00m\n\u001b[0;32m---> 28\u001b[0m \u001b[38;5;28;01mif\u001b[39;00m \u001b[43mrm_anova\u001b[49m\u001b[38;5;241;43m.\u001b[39;49m\u001b[43mpvalues\u001b[49m[\u001b[38;5;124m'\u001b[39m\u001b[38;5;124mF\u001b[39m\u001b[38;5;124m'\u001b[39m] \u001b[38;5;241m<\u001b[39m \u001b[38;5;241m0.05\u001b[39m:\n\u001b[1;32m     29\u001b[0m     \u001b[38;5;66;03m# Perform Tukey's HSD test\u001b[39;00m\n\u001b[1;32m     30\u001b[0m     posthoc \u001b[38;5;241m=\u001b[39m pairwise_tukeyhsd(melted_data[\u001b[38;5;124m'\u001b[39m\u001b[38;5;124mSales\u001b[39m\u001b[38;5;124m'\u001b[39m], melted_data[\u001b[38;5;124m'\u001b[39m\u001b[38;5;124mStore\u001b[39m\u001b[38;5;124m'\u001b[39m])\n\u001b[1;32m     32\u001b[0m     \u001b[38;5;66;03m# Report the results of the post-hoc test\u001b[39;00m\n",
      "\u001b[0;31mAttributeError\u001b[0m: 'AnovaResults' object has no attribute 'pvalues'"
     ]
    }
   ],
   "source": [
    "import pandas as pd\n",
    "import numpy as np\n",
    "from statsmodels.stats.anova import AnovaRM\n",
    "from statsmodels.stats.multicomp import pairwise_tukeyhsd\n",
    "\n",
    "# Generate sample data (sales for Store A, Store B, and Store C on 30 days)\n",
    "np.random.seed(0)  # for reproducibility\n",
    "store_a_sales = np.random.normal(loc=1000, scale=100, size=30)  # Store A sales\n",
    "store_b_sales = np.random.normal(loc=1100, scale=100, size=30)  # Store B sales\n",
    "store_c_sales = np.random.normal(loc=1200, scale=100, size=30)  # Store C sales\n",
    "\n",
    "# Create DataFrame for the data\n",
    "data = pd.DataFrame({\n",
    "    'Day': np.arange(1, 31),\n",
    "    'Store_A': store_a_sales,\n",
    "    'Store_B': store_b_sales,\n",
    "    'Store_C': store_c_sales\n",
    "})\n",
    "\n",
    "# Melt DataFrame for repeated measures ANOVA\n",
    "melted_data = pd.melt(data, id_vars=['Day'], value_vars=['Store_A', 'Store_B', 'Store_C'], var_name='Store', value_name='Sales')\n",
    "\n",
    "# Perform repeated measures ANOVA\n",
    "rm_anova = AnovaRM(data=melted_data, depvar='Sales', subject='Day', within=['Store']).fit()\n",
    "print(rm_anova)\n",
    "\n",
    "# Perform post-hoc test (Tukey's HSD) if the results are significant\n",
    "if rm_anova.pvalues['F'] < 0.05:\n",
    "    # Perform Tukey's HSD test\n",
    "    posthoc = pairwise_tukeyhsd(melted_data['Sales'], melted_data['Store'])\n",
    "    \n",
    "    # Report the results of the post-hoc test\n",
    "    print(\"\\nPost-hoc test (Tukey's HSD):\")\n",
    "    print(posthoc)\n",
    "else:\n",
    "    print(\"\\nNo significant differences found between the stores.\")\n"
   ]
  },
  {
   "cell_type": "code",
   "execution_count": null,
   "id": "440c8ce3-075e-47ad-8aea-d73f44b6bd43",
   "metadata": {},
   "outputs": [],
   "source": []
  },
  {
   "cell_type": "code",
   "execution_count": null,
   "id": "5af25e3e-4c94-4020-b5b3-5e41d2ca32ea",
   "metadata": {},
   "outputs": [],
   "source": []
  }
 ],
 "metadata": {
  "kernelspec": {
   "display_name": "Python 3 (ipykernel)",
   "language": "python",
   "name": "python3"
  },
  "language_info": {
   "codemirror_mode": {
    "name": "ipython",
    "version": 3
   },
   "file_extension": ".py",
   "mimetype": "text/x-python",
   "name": "python",
   "nbconvert_exporter": "python",
   "pygments_lexer": "ipython3",
   "version": "3.10.8"
  }
 },
 "nbformat": 4,
 "nbformat_minor": 5
}
