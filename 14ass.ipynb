{
 "cells": [
  {
   "cell_type": "code",
   "execution_count": 41,
   "id": "6cd335c0-5b76-4e91-8423-81d826d3c43a",
   "metadata": {},
   "outputs": [
    {
     "name": "stdout",
     "output_type": "stream",
     "text": [
      "F-statistic: 0.5\n",
      "p-value: 0.6186248513251718\n",
      "The differences between the groups are not statistically significant.\n",
      "Fail to reject the null hypothesis.\n"
     ]
    }
   ],
   "source": [
    "from scipy.stats import f_oneway\n",
    "\n",
    "# Sample data for three groups\n",
    "group1 = [10, 12, 14, 16, 18]\n",
    "group2 = [9, 11, 13, 15, 17]\n",
    "group3 = [8, 10, 12, 14, 16]\n",
    "\n",
    "# Perform one-way ANOVA\n",
    "f_statistic, p_value = f_oneway(group1, group2, group3)\n",
    "\n",
    "# Interpret the results\n",
    "print(\"F-statistic:\", f_statistic)\n",
    "print(\"p-value:\", p_value)\n",
    "\n",
    "# Interpretation\n",
    "alpha = 0.05\n",
    "if p_value < alpha:\n",
    "    print(\"The differences between the groups are statistically significant.\")\n",
    "    print(\"Reject the null hypothesis.\")\n",
    "else:\n",
    "    print(\"The differences between the groups are not statistically significant.\")\n",
    "    print(\"Fail to reject the null hypothesis.\")"
   ]
  },
  {
   "cell_type": "code",
   "execution_count": 42,
   "id": "60ef1aed-018a-42a2-a231-63e923077ed1",
   "metadata": {},
   "outputs": [
    {
     "name": "stdout",
     "output_type": "stream",
     "text": [
      "Critical F-value: 5.415962339560236\n"
     ]
    }
   ],
   "source": [
    "from scipy.stats import f\n",
    "\n",
    "def critical_f_value(significance_level, dfn, dfd):\n",
    "    \n",
    "    critical_value = f.ppf(1 - significance_level/2, dfn, dfd)\n",
    "    \n",
    "    return critical_value\n",
    "\n",
    "# Example usage:\n",
    "significance_level = 0.05\n",
    "dfn = 3  # Degrees of freedom for numerator\n",
    "dfd = 8  # Degrees of freedom for denominator\n",
    "\n",
    "critical_value = critical_f_value(significance_level, dfn, dfd)\n",
    "print(\"Critical F-value:\", critical_value)\n"
   ]
  },
  {
   "cell_type": "code",
   "execution_count": 43,
   "id": "75233e83-db78-46ea-a210-3098dbc5a0c9",
   "metadata": {},
   "outputs": [
    {
     "name": "stdout",
     "output_type": "stream",
     "text": [
      "F-value: 1.0\n",
      "Degrees of freedom (numerator): 29\n",
      "Degrees of freedom (denominator): 24\n",
      "p-value: 0.9901554057706555\n"
     ]
    }
   ],
   "source": [
    "import numpy as np\n",
    "from scipy.stats import f\n",
    "\n",
    "def f_test(sample1, sample2, variance1, variance2):\n",
    "    \n",
    "    n1 = len(sample1)\n",
    "    n2 = len(sample2)\n",
    "    \n",
    "    # Calculate F-value\n",
    "    f_value = variance1 / variance2\n",
    "    \n",
    "    # Degrees of freedom\n",
    "    dfn = n1 - 1\n",
    "    dfd = n2 - 1\n",
    "    \n",
    "    # Calculate p-value\n",
    "    p_value = 2 * min(f.cdf(f_value, dfn, dfd), 1 - f.cdf(f_value, dfn, dfd))\n",
    "    \n",
    "    return f_value, dfn, dfd, p_value\n",
    "\n",
    "# Generate random samples\n",
    "np.random.seed(0)  # for reproducibility\n",
    "sample1 = np.random.normal(loc=0, scale=1, size=30)  \n",
    "sample2 = np.random.normal(loc=0, scale=1, size=25) \n",
    "variance1 = 1  \n",
    "variance2 = 1  \n",
    "\n",
    "# Perform F-test\n",
    "f_value, dfn, dfd, p_value = f_test(sample1, sample2, variance1, variance2)\n",
    "\n",
    "# Output results\n",
    "print(\"F-value:\", f_value)\n",
    "print(\"Degrees of freedom (numerator):\", dfn)\n",
    "print(\"Degrees of freedom (denominator):\", dfd)\n",
    "print(\"p-value:\", p_value)\n"
   ]
  },
  {
   "cell_type": "code",
   "execution_count": 44,
   "id": "8211bbf5-77f2-4173-818d-748e7b28e08d",
   "metadata": {},
   "outputs": [],
   "source": [
    "import numpy as np \n",
    "import scipy.stats as stat\n",
    "\n",
    "variance1 = 10\n",
    "variance2 = 15\n",
    "sample_size = 12\n",
    "significance_level = 0.05"
   ]
  },
  {
   "cell_type": "code",
   "execution_count": 45,
   "id": "479e40f2-169e-4e5e-9649-92a9c7cdfe3a",
   "metadata": {},
   "outputs": [],
   "source": [
    "F_statistic =  variance1 / variance2"
   ]
  },
  {
   "cell_type": "code",
   "execution_count": 46,
   "id": "299c93f7-492a-4b85-8a6a-16d9114f08c0",
   "metadata": {},
   "outputs": [
    {
     "data": {
      "text/plain": [
       "0.6666666666666666"
      ]
     },
     "execution_count": 46,
     "metadata": {},
     "output_type": "execute_result"
    }
   ],
   "source": [
    "F_statistic "
   ]
  },
  {
   "cell_type": "code",
   "execution_count": 47,
   "id": "6ee6b440-a4cf-4dcc-b982-db67eb801898",
   "metadata": {},
   "outputs": [],
   "source": [
    "df1 = sample_size - 1\n",
    "df2 = sample_size -1 "
   ]
  },
  {
   "cell_type": "code",
   "execution_count": 48,
   "id": "09c0ec1a-59ca-4e52-9286-2abc48b18b1a",
   "metadata": {},
   "outputs": [
    {
     "data": {
      "text/plain": [
       "11"
      ]
     },
     "execution_count": 48,
     "metadata": {},
     "output_type": "execute_result"
    }
   ],
   "source": [
    "df1"
   ]
  },
  {
   "cell_type": "code",
   "execution_count": 49,
   "id": "d7efdcb1-ec65-4271-9b32-d504e9ad6cbd",
   "metadata": {},
   "outputs": [
    {
     "data": {
      "text/plain": [
       "11"
      ]
     },
     "execution_count": 49,
     "metadata": {},
     "output_type": "execute_result"
    }
   ],
   "source": [
    "df2"
   ]
  },
  {
   "cell_type": "code",
   "execution_count": 12,
   "id": "ce372e6c-98c4-423a-8f47-a2bb7196368c",
   "metadata": {},
   "outputs": [],
   "source": [
    "critical_value=stat.f.ppf(q=1-significance_level,dfn=df1,dfd=df2)"
   ]
  },
  {
   "cell_type": "code",
   "execution_count": 13,
   "id": "d04a02eb-91a8-4344-9ac6-3a80c4523bf1",
   "metadata": {},
   "outputs": [
    {
     "data": {
      "text/plain": [
       "2.8179304699530863"
      ]
     },
     "execution_count": 13,
     "metadata": {},
     "output_type": "execute_result"
    }
   ],
   "source": [
    "critical_value"
   ]
  },
  {
   "cell_type": "code",
   "execution_count": 15,
   "id": "c831028b-d0af-46a1-890b-7d271dcf98f0",
   "metadata": {},
   "outputs": [
    {
     "name": "stdout",
     "output_type": "stream",
     "text": [
      "We fail to Reject the null hypothesis\n"
     ]
    }
   ],
   "source": [
    "if F_statistic  > critical_value:\n",
    "    print(\"Reject the Null Hypothesis\")\n",
    "else:\n",
    "    print(\"We fail to Reject the null hypothesis\")"
   ]
  },
  {
   "cell_type": "code",
   "execution_count": 16,
   "id": "a5b531f4-98ee-4836-94c1-9b8689af2293",
   "metadata": {},
   "outputs": [
    {
     "name": "stdout",
     "output_type": "stream",
     "text": [
      "F_statistic 0.8333333333333334\n",
      "critical_value 1.7018541845725565\n",
      "We fail to Reject the null hypothesis\n"
     ]
    }
   ],
   "source": [
    "import numpy as np \n",
    "import scipy.stats as stat\n",
    "\n",
    "variance1 = 0.005\n",
    "variance2 = 0.006\n",
    "sample_size = 25\n",
    "significance_level = 0.10\n",
    "\n",
    "F_statistic =  variance1 / variance2\n",
    "\n",
    "df1 = sample_size - 1\n",
    "df2 = sample_size -1 \n",
    "\n",
    "critical_value=stat.f.ppf(q=1-significance_level,dfn=df1,dfd=df2)\n",
    "\n",
    "print(\"F_statistic\", F_statistic)\n",
    "print(\"critical_value\", critical_value)\n",
    "\n",
    "if F_statistic  > critical_value:\n",
    "    print(\"Reject the Null Hypothesis\")\n",
    "else:\n",
    "    print(\"We fail to Reject the null hypothesis\")\n"
   ]
  },
  {
   "cell_type": "code",
   "execution_count": 31,
   "id": "2ba02d3d-deca-4e46-8a3b-ce3aa0cf5cc3",
   "metadata": {},
   "outputs": [
    {
     "name": "stdout",
     "output_type": "stream",
     "text": [
      "f_test 1.9442622950819677\n",
      "critical_value 3.4529822480379053\n",
      "We fail to Reject the null hypothesis\n"
     ]
    }
   ],
   "source": [
    "import numpy as np \n",
    "import scipy.stats as stat\n",
    "\n",
    "Group_A = [80, 85, 90, 92, 87, 83]\n",
    "Group_B = [75, 78, 82, 79, 81, 84]\n",
    "significance_level = 0.10\n",
    "\n",
    "f_test=np.var(Group_A)/np.var(Group_B)\n",
    "\n",
    "df1=len(Group_A)-1\n",
    "df2=len(Group_B)-1\n",
    "\n",
    "critical_value=stat.f.ppf(q=1-significance_level,dfn=df1,dfd=df2)\n",
    "\n",
    "print(\"f_test\", f_test)\n",
    "print(\"critical_value\", critical_value)\n",
    "\n",
    "\n",
    "if f_test  > critical_value:\n",
    "    print(\"Reject the Null Hypothesis\")\n",
    "else:\n",
    "    print(\"We fail to Reject the null hypothesis\")\n"
   ]
  },
  {
   "cell_type": "code",
   "execution_count": 36,
   "id": "4821600f-7a38-44d3-b8dd-d0a221989a31",
   "metadata": {},
   "outputs": [],
   "source": [
    "a = np.var(Group_A)\n",
    "b = np.var(Group_B)\n",
    "\n",
    "c = np.mean(Group_A)\n",
    "d = np.mean(Group_B)\n"
   ]
  },
  {
   "cell_type": "code",
   "execution_count": 39,
   "id": "c973262a-b368-4e74-8c77-61156af02049",
   "metadata": {},
   "outputs": [],
   "source": [
    "l = (a,b,c,d)"
   ]
  },
  {
   "cell_type": "code",
   "execution_count": 40,
   "id": "6ea9af6f-41f8-4b81-b4ea-e80b762bd1f9",
   "metadata": {},
   "outputs": [
    {
     "data": {
      "text/plain": [
       "(16.472222222222225, 8.472222222222221, 86.16666666666667, 79.83333333333333)"
      ]
     },
     "execution_count": 40,
     "metadata": {},
     "output_type": "execute_result"
    }
   ],
   "source": [
    "l"
   ]
  },
  {
   "cell_type": "code",
   "execution_count": 17,
   "id": "1b7a487d-da9f-4531-958b-ec7450b20837",
   "metadata": {},
   "outputs": [
    {
     "name": "stdout",
     "output_type": "stream",
     "text": [
      "F_statistic 1.25\n",
      "critical_value 2.121954566976902\n",
      "We fail to Reject the null hypothesis\n"
     ]
    }
   ],
   "source": [
    "import numpy as np \n",
    "import scipy.stats as stat\n",
    "\n",
    "variance1 = 25\n",
    "variance2 = 20\n",
    "sample_size1 = 10\n",
    "sample_size2 = 15\n",
    "significance_level = 0.10\n",
    "\n",
    "F_statistic =  variance1 / variance2\n",
    "\n",
    "df1 = sample_size1 - 1\n",
    "df2 = sample_size2 -1 \n",
    "\n",
    "critical_value=stat.f.ppf(q=1-significance_level,dfn=df1,dfd=df2)\n",
    "\n",
    "print(\"F_statistic\", F_statistic)\n",
    "print(\"critical_value\", critical_value)\n",
    "\n",
    "if F_statistic  > critical_value:\n",
    "    print(\"Reject the Null Hypothesis\")\n",
    "else:\n",
    "    print(\"We fail to Reject the null hypothesis\")\n"
   ]
  },
  {
   "cell_type": "code",
   "execution_count": 18,
   "id": "5af80455-366e-41ea-89c5-084b9d0c3438",
   "metadata": {},
   "outputs": [],
   "source": [
    "A = [24, 25, 28, 23, 22, 20, 27]\n",
    "B =  [31, 33, 35, 30, 32, 36] "
   ]
  },
  {
   "cell_type": "code",
   "execution_count": 19,
   "id": "69412f51-c1d8-4b6d-b800-91d5817f648c",
   "metadata": {},
   "outputs": [],
   "source": [
    "import numpy as np \n",
    "f_test=np.var(A)/np.var(B)"
   ]
  },
  {
   "cell_type": "code",
   "execution_count": 20,
   "id": "6ed88be4-f6b2-4cf8-8c43-e3d044762678",
   "metadata": {},
   "outputs": [
    {
     "data": {
      "text/plain": [
       "1.496767651159843"
      ]
     },
     "execution_count": 20,
     "metadata": {},
     "output_type": "execute_result"
    }
   ],
   "source": [
    "f_test"
   ]
  },
  {
   "cell_type": "code",
   "execution_count": 21,
   "id": "07a47bec-6e1b-4c66-ae41-5592f7a14058",
   "metadata": {},
   "outputs": [],
   "source": [
    "df1=len(A)-1\n",
    "df2=len(B)-1\n",
    "significance_value=0.05"
   ]
  },
  {
   "cell_type": "code",
   "execution_count": 22,
   "id": "3817202f-d329-4631-bc88-06ca860d727f",
   "metadata": {},
   "outputs": [],
   "source": [
    "import scipy.stats as stat"
   ]
  },
  {
   "cell_type": "code",
   "execution_count": 23,
   "id": "2ea3745c-34ac-4210-abe5-65c9b2edcb70",
   "metadata": {},
   "outputs": [],
   "source": [
    "critical_value=stat.f.ppf(q=1-significance_level,dfn=df1,dfd=df2)"
   ]
  },
  {
   "cell_type": "code",
   "execution_count": 24,
   "id": "b4b0be3b-bc73-49fd-9dcf-a7f20f382196",
   "metadata": {},
   "outputs": [
    {
     "data": {
      "text/plain": [
       "3.4045065849849685"
      ]
     },
     "execution_count": 24,
     "metadata": {},
     "output_type": "execute_result"
    }
   ],
   "source": [
    "critical_value"
   ]
  },
  {
   "cell_type": "code",
   "execution_count": 25,
   "id": "71b834c1-b217-46d7-9e92-743e80aedaec",
   "metadata": {},
   "outputs": [
    {
     "name": "stdout",
     "output_type": "stream",
     "text": [
      "We fail to Reject the null hypothesis\n"
     ]
    }
   ],
   "source": [
    "if f_test  > critical_value:\n",
    "    print(\"Reject the Null Hypothesis\")\n",
    "else:\n",
    "    print(\"We fail to Reject the null hypothesis\")\n"
   ]
  },
  {
   "cell_type": "code",
   "execution_count": 28,
   "id": "573ee32c-b356-42c4-8aeb-273849b06146",
   "metadata": {},
   "outputs": [
    {
     "name": "stdout",
     "output_type": "stream",
     "text": [
      "f_test 1.9442622950819677\n",
      "critical_value 3.4529822480379053\n",
      "We fail to Reject the null hypothesis\n"
     ]
    }
   ],
   "source": [
    "import numpy as np \n",
    "import scipy.stats as stat\n",
    "\n",
    "Group_A = [80, 85, 90, 92, 87, 83]\n",
    "Group_B = [75, 78, 82, 79, 81, 84]\n",
    "significance_level = 0.10\n",
    "\n",
    "f_test=np.var(Group_A)/np.var(Group_B)\n",
    "\n",
    "df1=len(Group_A)-1\n",
    "df2=len(Group_B)-1\n",
    "\n",
    "critical_value=stat.f.ppf(q=1-significance_level,dfn=df1,dfd=df2)\n",
    "\n",
    "print(\"f_test\", f_test)\n",
    "print(\"critical_value\", critical_value)\n",
    "\n",
    "if f_test  > critical_value:\n",
    "    print(\"Reject the Null Hypothesis\")\n",
    "else:\n",
    "    print(\"We fail to Reject the null hypothesis\")\n"
   ]
  },
  {
   "cell_type": "code",
   "execution_count": null,
   "id": "d2a435fe-0da0-4fd7-8fcb-2c8a5d51eefd",
   "metadata": {},
   "outputs": [],
   "source": []
  }
 ],
 "metadata": {
  "kernelspec": {
   "display_name": "Python 3 (ipykernel)",
   "language": "python",
   "name": "python3"
  },
  "language_info": {
   "codemirror_mode": {
    "name": "ipython",
    "version": 3
   },
   "file_extension": ".py",
   "mimetype": "text/x-python",
   "name": "python",
   "nbconvert_exporter": "python",
   "pygments_lexer": "ipython3",
   "version": "3.10.8"
  }
 },
 "nbformat": 4,
 "nbformat_minor": 5
}
