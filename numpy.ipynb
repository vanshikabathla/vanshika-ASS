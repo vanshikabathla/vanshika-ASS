{
 "cells": [
  {
   "cell_type": "code",
   "execution_count": 44,
   "id": "b27dbc0f-eb3a-43b9-b6ad-61c295283057",
   "metadata": {},
   "outputs": [],
   "source": [
    "import numpy as np "
   ]
  },
  {
   "cell_type": "code",
   "execution_count": null,
   "id": "11a996a4-3916-4810-b555-84588e26a45d",
   "metadata": {},
   "outputs": [],
   "source": [
    "A list is a built-in data structure in Python.\n",
    "It can hold elements of multiple data types (e.g., integers, strings, floats, etc.).\n",
    "\n",
    "An array is part of the array module in Python.\n",
    "It holds elements of a single data type (e.g., integers, floats)."
   ]
  },
  {
   "cell_type": "code",
   "execution_count": 45,
   "id": "d1d091df-cf9d-41f5-8d47-79e43f29349c",
   "metadata": {},
   "outputs": [],
   "source": [
    "list_ = [ '1' , '2' , '3', '4' , '5']"
   ]
  },
  {
   "cell_type": "code",
   "execution_count": 46,
   "id": "2011d6e3-d18a-4f75-a524-6e410ab40777",
   "metadata": {},
   "outputs": [],
   "source": [
    "array_list = np.array(object = list_)"
   ]
  },
  {
   "cell_type": "code",
   "execution_count": 47,
   "id": "fdae97a9-9e7d-469a-8fb3-c1a0ed85c48b",
   "metadata": {},
   "outputs": [
    {
     "data": {
      "text/plain": [
       "array(['1', '2', '3', '4', '5'], dtype='<U1')"
      ]
     },
     "execution_count": 47,
     "metadata": {},
     "output_type": "execute_result"
    }
   ],
   "source": [
    "array_list"
   ]
  },
  {
   "cell_type": "code",
   "execution_count": 48,
   "id": "81840deb-c080-4bb0-b3fb-057576b5a4c9",
   "metadata": {},
   "outputs": [
    {
     "data": {
      "text/plain": [
       "list"
      ]
     },
     "execution_count": 48,
     "metadata": {},
     "output_type": "execute_result"
    }
   ],
   "source": [
    "type(list_)"
   ]
  },
  {
   "cell_type": "code",
   "execution_count": 35,
   "id": "166afb65-ae8e-4fc7-8514-bc834bc8f9f6",
   "metadata": {},
   "outputs": [
    {
     "data": {
      "text/plain": [
       "numpy.ndarray"
      ]
     },
     "execution_count": 35,
     "metadata": {},
     "output_type": "execute_result"
    }
   ],
   "source": [
    "type(array_list)"
   ]
  },
  {
   "cell_type": "code",
   "execution_count": 39,
   "id": "938309fe-1ff8-4f55-9b1f-7be04512b7c9",
   "metadata": {},
   "outputs": [],
   "source": [
    "list = [ '1' , '2' , '3', '4' , '5']"
   ]
  },
  {
   "cell_type": "code",
   "execution_count": 40,
   "id": "7c4cbbd9-b1b3-4699-9b76-280563ffa0b0",
   "metadata": {},
   "outputs": [],
   "source": [
    "array_list1 = np.array(object = list)"
   ]
  },
  {
   "cell_type": "code",
   "execution_count": 41,
   "id": "a5ae0360-535b-4a43-9d44-c3d35d1e60ac",
   "metadata": {},
   "outputs": [
    {
     "data": {
      "text/plain": [
       "array(['1', '2', '3', '4', '5'], dtype='<U1')"
      ]
     },
     "execution_count": 41,
     "metadata": {},
     "output_type": "execute_result"
    }
   ],
   "source": [
    "array_list1"
   ]
  },
  {
   "cell_type": "code",
   "execution_count": 42,
   "id": "1a6ecfa6-d945-4693-acd6-0799492b3521",
   "metadata": {},
   "outputs": [
    {
     "data": {
      "text/plain": [
       "list"
      ]
     },
     "execution_count": 42,
     "metadata": {},
     "output_type": "execute_result"
    }
   ],
   "source": [
    "type(list)"
   ]
  },
  {
   "cell_type": "code",
   "execution_count": 43,
   "id": "5aa6c0c5-b432-4091-9630-8235f0c118aa",
   "metadata": {},
   "outputs": [
    {
     "data": {
      "text/plain": [
       "numpy.ndarray"
      ]
     },
     "execution_count": 43,
     "metadata": {},
     "output_type": "execute_result"
    }
   ],
   "source": [
    "type(array_list)"
   ]
  },
  {
   "cell_type": "code",
   "execution_count": null,
   "id": "5af67539-eee5-430d-85f7-e10c84b4a00a",
   "metadata": {},
   "outputs": [],
   "source": [
    "Yes there will be a difference in variable list and array list .\n",
    "In array_list we use numpy to convert the variable list into array_list"
   ]
  },
  {
   "cell_type": "code",
   "execution_count": 36,
   "id": "530e0efb-e050-4577-ab23-15a87dd0fddf",
   "metadata": {},
   "outputs": [],
   "source": [
    "num_list = [[ 1 , 2 , 3 ],[ 4 , 5 , 6 ]]"
   ]
  },
  {
   "cell_type": "code",
   "execution_count": 37,
   "id": "cd7b7799-7876-473f-8d13-a3f490cc7edd",
   "metadata": {},
   "outputs": [],
   "source": [
    "num_array = np.array(object = num_list)"
   ]
  },
  {
   "cell_type": "code",
   "execution_count": 38,
   "id": "39b66f61-2285-45e7-b9ac-243815567b5e",
   "metadata": {},
   "outputs": [
    {
     "data": {
      "text/plain": [
       "array([[1, 2, 3],\n",
       "       [4, 5, 6]])"
      ]
     },
     "execution_count": 38,
     "metadata": {},
     "output_type": "execute_result"
    }
   ],
   "source": [
    "num_array"
   ]
  },
  {
   "cell_type": "code",
   "execution_count": 18,
   "id": "992bb5c7-ae23-40ea-b7fa-ae0ae45c1a77",
   "metadata": {},
   "outputs": [],
   "source": [
    "l = [[ 6 , 2 , 3 , 8 ],[ 4 , 5 , 6 , 9 ]]"
   ]
  },
  {
   "cell_type": "code",
   "execution_count": 19,
   "id": "f925e8fc-3d75-420c-984f-8f653790fd82",
   "metadata": {},
   "outputs": [],
   "source": [
    "arr = np.array(l)"
   ]
  },
  {
   "cell_type": "code",
   "execution_count": 20,
   "id": "8642f9a2-8f9a-4cb3-89e4-3ac16d07d19a",
   "metadata": {},
   "outputs": [
    {
     "data": {
      "text/plain": [
       "array([[6, 2, 3, 8],\n",
       "       [4, 5, 6, 9]])"
      ]
     },
     "execution_count": 20,
     "metadata": {},
     "output_type": "execute_result"
    }
   ],
   "source": [
    "arr"
   ]
  },
  {
   "cell_type": "code",
   "execution_count": 23,
   "id": "87c6ee20-10b5-436d-91c1-23973ebca73d",
   "metadata": {},
   "outputs": [
    {
     "data": {
      "text/plain": [
       "array([[6],\n",
       "       [2],\n",
       "       [3],\n",
       "       [8],\n",
       "       [4],\n",
       "       [5],\n",
       "       [6],\n",
       "       [9]])"
      ]
     },
     "execution_count": 23,
     "metadata": {},
     "output_type": "execute_result"
    }
   ],
   "source": [
    "arr.reshape(8,1)"
   ]
  },
  {
   "cell_type": "code",
   "execution_count": 24,
   "id": "22dff710-b368-465a-a38f-1d11797f5d5f",
   "metadata": {},
   "outputs": [
    {
     "data": {
      "text/plain": [
       "8"
      ]
     },
     "execution_count": 24,
     "metadata": {},
     "output_type": "execute_result"
    }
   ],
   "source": [
    "arr.size"
   ]
  },
  {
   "cell_type": "code",
   "execution_count": 6,
   "id": "4b8fef6f-d62b-4fe2-bd54-58cbd7b669c1",
   "metadata": {},
   "outputs": [
    {
     "data": {
      "text/plain": [
       "array([[0., 0., 0.],\n",
       "       [0., 0., 0.],\n",
       "       [0., 0., 0.]])"
      ]
     },
     "execution_count": 6,
     "metadata": {},
     "output_type": "execute_result"
    }
   ],
   "source": [
    "np.zeros((3,3))"
   ]
  },
  {
   "cell_type": "code",
   "execution_count": 1,
   "id": "b4acfd52-2e6a-40d8-85a7-2cf9927d11c7",
   "metadata": {},
   "outputs": [],
   "source": [
    "import numpy.matlib as nm"
   ]
  },
  {
   "cell_type": "code",
   "execution_count": 2,
   "id": "42633210-98e3-4f76-9abc-5890f1cfe217",
   "metadata": {},
   "outputs": [
    {
     "data": {
      "text/plain": [
       "matrix([[1., 0., 0., 0., 0.],\n",
       "        [0., 1., 0., 0., 0.],\n",
       "        [0., 0., 1., 0., 0.],\n",
       "        [0., 0., 0., 1., 0.],\n",
       "        [0., 0., 0., 0., 1.]])"
      ]
     },
     "execution_count": 2,
     "metadata": {},
     "output_type": "execute_result"
    }
   ],
   "source": [
    "nm.eye(5)"
   ]
  },
  {
   "cell_type": "code",
   "execution_count": null,
   "id": "a946aa7c-5f99-42a7-91c8-bf604a764eaa",
   "metadata": {},
   "outputs": [],
   "source": []
  }
 ],
 "metadata": {
  "kernelspec": {
   "display_name": "Python 3 (ipykernel)",
   "language": "python",
   "name": "python3"
  },
  "language_info": {
   "codemirror_mode": {
    "name": "ipython",
    "version": 3
   },
   "file_extension": ".py",
   "mimetype": "text/x-python",
   "name": "python",
   "nbconvert_exporter": "python",
   "pygments_lexer": "ipython3",
   "version": "3.10.8"
  }
 },
 "nbformat": 4,
 "nbformat_minor": 5
}
