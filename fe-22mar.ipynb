{
 "cells": [
  {
   "cell_type": "code",
   "execution_count": 1,
   "id": "06a4fa1b-4682-475e-82c4-97bccd14c7fc",
   "metadata": {},
   "outputs": [
    {
     "name": "stdout",
     "output_type": "stream",
     "text": [
      "Pearson correlation coefficient: 0.9952198266042864\n",
      "Interpretation: There is a positive linear relationship.\n"
     ]
    }
   ],
   "source": [
    "import numpy as np\n",
    "from scipy.stats import pearsonr\n",
    "\n",
    "# Sample data - replace with your actual data\n",
    "study_time = [10, 8, 12, 15, 6, 9, 11]\n",
    "exam_scores = [80, 75, 85, 90, 70, 78, 82]\n",
    "\n",
    "# Calculate Pearson correlation coefficient\n",
    "correlation_coefficient, p_value = pearsonr(study_time, exam_scores)\n",
    "\n",
    "# Interpret the result\n",
    "if correlation_coefficient > 0:\n",
    "    correlation_interpretation = \"There is a positive linear relationship.\"\n",
    "elif correlation_coefficient < 0:\n",
    "    correlation_interpretation = \"There is a negative linear relationship.\"\n",
    "else:\n",
    "    correlation_interpretation = \"There is no linear relationship.\"\n",
    "\n",
    "print(\"Pearson correlation coefficient:\", correlation_coefficient)\n",
    "print(\"Interpretation:\", correlation_interpretation)\n"
   ]
  },
  {
   "cell_type": "code",
   "execution_count": 2,
   "id": "7940f85a-c2e8-4e47-b1be-932568951c2a",
   "metadata": {},
   "outputs": [
    {
     "name": "stdout",
     "output_type": "stream",
     "text": [
      "Spearman's rank correlation coefficient: 0.7777777777777779\n",
      "Interpretation: There is a positive monotonic relationship.\n"
     ]
    }
   ],
   "source": [
    "import numpy as np\n",
    "from scipy.stats import spearmanr\n",
    "\n",
    "# Sample data - replace with your actual data\n",
    "sleep_hours = [7, 6, 8, 5, 6, 9, 8]\n",
    "job_satisfaction = [8, 7, 9, 5, 6, 8, 7]\n",
    "\n",
    "# Calculate Spearman's rank correlation coefficient\n",
    "correlation_coefficient, p_value = spearmanr(sleep_hours, job_satisfaction)\n",
    "\n",
    "# Interpret the result\n",
    "if correlation_coefficient > 0:\n",
    "    correlation_interpretation = \"There is a positive monotonic relationship.\"\n",
    "elif correlation_coefficient < 0:\n",
    "    correlation_interpretation = \"There is a negative monotonic relationship.\"\n",
    "else:\n",
    "    correlation_interpretation = \"There is no monotonic relationship.\"\n",
    "\n",
    "print(\"Spearman's rank correlation coefficient:\", correlation_coefficient)\n",
    "print(\"Interpretation:\", correlation_interpretation)\n"
   ]
  },
  {
   "cell_type": "code",
   "execution_count": 3,
   "id": "ce2cd581-3636-4c7e-aef4-9a006702d5dc",
   "metadata": {},
   "outputs": [
    {
     "name": "stdout",
     "output_type": "stream",
     "text": [
      "Pearson correlation coefficient: -0.4915198405904243\n",
      "Spearman's rank correlation coefficient: -0.5024448320400051\n"
     ]
    }
   ],
   "source": [
    "import numpy as np\n",
    "from scipy.stats import pearsonr, spearmanr\n",
    "\n",
    "# Sample data - replace with your actual data\n",
    "hours_of_exercise = [3, 5, 2, 4, 6, 3, 2, 1, 4, 5, 6, 2, 3, 4, 5, 1, 2, 3, 4, 5, 6, 7, 1, 2, 3,\n",
    "                     4, 5, 6, 7, 2, 3, 4, 5, 6, 3, 4, 5, 6, 2, 3, 4, 5, 6, 7, 1, 2, 3, 4, 5]\n",
    "bmi = [22, 25, 28, 30, 26, 24, 29, 31, 27, 26, 23, 30, 28, 25, 24, 32, 28, 27, 26, 25,\n",
    "       24, 23, 31, 29, 27, 28, 26, 25, 24, 23, 30, 29, 27, 26, 25, 24, 22, 30, 28, 27,\n",
    "       25, 24, 23, 31, 29, 27, 26, 25, 24]\n",
    "\n",
    "# Calculate Pearson correlation coefficient\n",
    "pearson_corr, _ = pearsonr(hours_of_exercise, bmi)\n",
    "\n",
    "# Calculate Spearman's rank correlation coefficient\n",
    "spearman_corr, _ = spearmanr(hours_of_exercise, bmi)\n",
    "\n",
    "# Print the results\n",
    "print(\"Pearson correlation coefficient:\", pearson_corr)\n",
    "print(\"Spearman's rank correlation coefficient:\", spearman_corr)\n"
   ]
  },
  {
   "cell_type": "code",
   "execution_count": 7,
   "id": "24ddf742-c149-418f-ad19-220098570161",
   "metadata": {},
   "outputs": [
    {
     "name": "stdout",
     "output_type": "stream",
     "text": [
      "Pearson correlation coefficient: 0.01704669636272651\n"
     ]
    }
   ],
   "source": [
    "import numpy as np\n",
    "from scipy.stats import pearsonr\n",
    "\n",
    "# Sample data - replace with your actual data\n",
    "hours_tv = [3, 4, 2, 5, 1, 3, 4, 2, 5, 6, 3, 4, 2, 1, 3, 4, 5, 2, 3, 4,\n",
    "            5, 6, 3, 2, 4, 5, 1, 3, 4, 2, 5, 6, 3, 4, 2, 1, 3, 4, 5, 2,\n",
    "            3, 4, 5, 6, 3, 2, 4, 5, 1, 3]\n",
    "physical_activity_level = [2, 3, 4, 2, 5, 1, 3, 4, 2, 5, 6, 3, 4, 2, 1, 3, 4, 5, 2, 3,\n",
    "                           4, 5, 6, 3, 2, 4, 5, 1, 3, 4, 2, 5, 6, 3, 4, 2, 1, 3, 4, 5,\n",
    "                           2, 3, 4, 5, 6, 3, 2, 4, 5, 1]\n",
    "\n",
    "# Calculate Pearson correlation coefficient\n",
    "pearson_corr, _ = pearsonr(hours_tv, physical_activity_level)\n",
    "\n",
    "# Print the result\n",
    "print(\"Pearson correlation coefficient:\", pearson_corr)\n"
   ]
  },
  {
   "cell_type": "code",
   "execution_count": null,
   "id": "482462d6-76a1-4704-93b5-69696ef566a3",
   "metadata": {},
   "outputs": [],
   "source": []
  },
  {
   "cell_type": "code",
   "execution_count": 8,
   "id": "6894dd5e-71c1-4e3f-a578-c42f55902cbf",
   "metadata": {},
   "outputs": [
    {
     "name": "stdout",
     "output_type": "stream",
     "text": [
      "Pearson correlation coefficient: 0.9360132457196808\n"
     ]
    }
   ],
   "source": [
    "import numpy as np\n",
    "from scipy.stats import pearsonr\n",
    "\n",
    "# Sample data - replace with your actual data\n",
    "sales_calls_per_day = [20, 25, 18, 22, 15, 30, 24, 28, 21, 19, \n",
    "                       23, 26, 17, 27, 16, 29, 22, 25, 18, 20,\n",
    "                       24, 26, 21, 23, 19, 28, 16, 27, 20, 22]\n",
    "\n",
    "sales_per_week = [5, 6, 4, 7, 3, 8, 6, 7, 5, 4, \n",
    "                   6, 7, 4, 8, 3, 9, 7, 6, 4, 5,\n",
    "                   6, 7, 5, 6, 4, 8, 3, 9, 5, 6]\n",
    "\n",
    "# Calculate Pearson correlation coefficient\n",
    "pearson_corr, _ = pearsonr(sales_calls_per_day, sales_per_week)\n",
    "\n",
    "# Print the result\n",
    "print(\"Pearson correlation coefficient:\", pearson_corr)\n"
   ]
  },
  {
   "cell_type": "code",
   "execution_count": null,
   "id": "0de15de5-1ef8-43db-964c-0553e1b5fd64",
   "metadata": {},
   "outputs": [],
   "source": []
  }
 ],
 "metadata": {
  "kernelspec": {
   "display_name": "Python 3 (ipykernel)",
   "language": "python",
   "name": "python3"
  },
  "language_info": {
   "codemirror_mode": {
    "name": "ipython",
    "version": 3
   },
   "file_extension": ".py",
   "mimetype": "text/x-python",
   "name": "python",
   "nbconvert_exporter": "python",
   "pygments_lexer": "ipython3",
   "version": "3.10.8"
  }
 },
 "nbformat": 4,
 "nbformat_minor": 5
}
