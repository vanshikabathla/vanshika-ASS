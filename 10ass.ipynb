{
 "cells": [
  {
   "cell_type": "code",
   "execution_count": null,
   "id": "4a367576-f9a3-410e-9d72-ebd73fa5f502",
   "metadata": {},
   "outputs": [],
   "source": [
    "Estimate - It is an observed numerical value used to estimate the unknown population parameter.\n",
    "\n",
    "Point Estimate - Single numerical value used to estimate the unknown population parameter.\n",
    "\n",
    "Interval Estimate - Range of values used to estimate the unknown population parameter."
   ]
  },
  {
   "cell_type": "code",
   "execution_count": 154,
   "id": "65fb2b1f-a205-43a5-b3e3-bf6918483aff",
   "metadata": {},
   "outputs": [],
   "source": [
    "sample_mean = 500\n",
    "sample_size = 50\n",
    "population_std = 50\n",
    "Confidence_interval = 0.95\n",
    "Z_score = 1.96"
   ]
  },
  {
   "cell_type": "code",
   "execution_count": 155,
   "id": "0223b6b8-792d-4cc6-9e50-e652442e1307",
   "metadata": {},
   "outputs": [],
   "source": [
    "population_mean = (sample_mean+Z_score ) * (population_std / np.sqrt(sample_size)) "
   ]
  },
  {
   "cell_type": "code",
   "execution_count": 156,
   "id": "98056649-cd41-4060-a9c2-0aa1fa5282d5",
   "metadata": {},
   "outputs": [
    {
     "data": {
      "text/plain": [
       "3549.3931988439936"
      ]
     },
     "execution_count": 156,
     "metadata": {},
     "output_type": "execute_result"
    }
   ],
   "source": [
    "population_mean"
   ]
  },
  {
   "cell_type": "code",
   "execution_count": null,
   "id": "2dabe6aa-cdd0-4105-9dce-87ae9c6f950b",
   "metadata": {},
   "outputs": [],
   "source": [
    "Hypothesis testing is a statistical method that helps to determine whether a hypothesis is true or not. It is a procedure that involves collecting and analyzing data to evaluate the probability of the null hypothesis being true.\n",
    "The null hypothesis is the hypothesis that there is no significant difference between a sample and the population.\n",
    "\n",
    "Hypothesis testing is a statistical method that is used to make a statistical decision using experimental data. Hypothesis testing is basically an assumption that we make about a population parameter.\n",
    "It evaluates two mutually exclusive statements about a population to determine which statement is best supported by the sample data. \n",
    "\n",
    "Hypothesis testing helps to avoid Type I and Type II errors. Type I error occurs when we reject the null hypothesis when it is actually true. Type II error occurs when we fail to reject the null hypothesis when it is actually false.\n",
    "By setting a significance level and calculating the p-value, we can control the probability of making these errors."
   ]
  },
  {
   "cell_type": "code",
   "execution_count": 11,
   "id": "033b11fd-6f29-4c12-90ab-1a7d3e7c3049",
   "metadata": {},
   "outputs": [],
   "source": [
    "import numpy as np "
   ]
  },
  {
   "cell_type": "code",
   "execution_count": 12,
   "id": "f161f55b-7c98-4a83-9074-58c5a7fb254f",
   "metadata": {},
   "outputs": [],
   "source": [
    "weight_of_male  = [78,89,56,76,68] "
   ]
  },
  {
   "cell_type": "code",
   "execution_count": 13,
   "id": "877a982e-7229-4ca7-89fc-9927cea2c854",
   "metadata": {},
   "outputs": [],
   "source": [
    "weight_of_female = [56,45,67,34,59] "
   ]
  },
  {
   "cell_type": "code",
   "execution_count": 16,
   "id": "7b5a9e9b-3dba-4bb5-ac78-7f6bfdf570a3",
   "metadata": {},
   "outputs": [],
   "source": [
    "a = np.mean(weight_of_male)"
   ]
  },
  {
   "cell_type": "code",
   "execution_count": 17,
   "id": "ddc08faa-4e62-4282-a65d-003b26f55dca",
   "metadata": {},
   "outputs": [
    {
     "data": {
      "text/plain": [
       "73.4"
      ]
     },
     "execution_count": 17,
     "metadata": {},
     "output_type": "execute_result"
    }
   ],
   "source": [
    "a"
   ]
  },
  {
   "cell_type": "code",
   "execution_count": 18,
   "id": "a63651b9-7ed7-4b70-a7aa-6db2597a78cd",
   "metadata": {},
   "outputs": [],
   "source": [
    "b = np.mean(weight_of_female)"
   ]
  },
  {
   "cell_type": "code",
   "execution_count": 19,
   "id": "bceb09fb-317f-434f-af9b-523cf7923ee9",
   "metadata": {},
   "outputs": [
    {
     "data": {
      "text/plain": [
       "52.2"
      ]
     },
     "execution_count": 19,
     "metadata": {},
     "output_type": "execute_result"
    }
   ],
   "source": [
    "b"
   ]
  },
  {
   "cell_type": "code",
   "execution_count": null,
   "id": "b9f39a61-e43a-4db7-a414-90e4a7cedcfd",
   "metadata": {},
   "outputs": [],
   "source": [
    "Null Hypothesis (H0): The average weight of male college students is equal to the average weight of female college students.\n",
    "Alternative Hypothesis (H1): The average weight of male college students is greater than the average weight of female college students."
   ]
  },
  {
   "cell_type": "code",
   "execution_count": 21,
   "id": "eb23b407-29ea-4139-a819-498c37586f28",
   "metadata": {},
   "outputs": [],
   "source": [
    "H0: a=b\n",
    "H1: a>b"
   ]
  },
  {
   "cell_type": "code",
   "execution_count": 23,
   "id": "78ca8dc4-0d8e-4439-9d4d-fbdfbb7aefc8",
   "metadata": {},
   "outputs": [
    {
     "data": {
      "text/plain": [
       "True"
      ]
     },
     "execution_count": 23,
     "metadata": {},
     "output_type": "execute_result"
    }
   ],
   "source": [
    "a>b"
   ]
  },
  {
   "cell_type": "code",
   "execution_count": null,
   "id": "ba2e4757-465f-463a-8cd4-ccd1b81e2b9a",
   "metadata": {},
   "outputs": [],
   "source": [
    "we accept the null hypothesis"
   ]
  },
  {
   "cell_type": "code",
   "execution_count": null,
   "id": "9082105e-b706-4b38-95f8-a4552aa161f4",
   "metadata": {},
   "outputs": [
    {
     "name": "stdout",
     "output_type": "stream",
     "text": [
      "t-score: 2.3239677296992913\n",
      "Critical t-value: 2.6500812928169553\n",
      "Fail to reject the null hypothesis\n"
     ]
    }
   ],
   "source": [
    "import numpy as np\n",
    "from scipy.stats import t\n",
    "\n",
    "n1 = 30  \n",
    "mean1 = 80  \n",
    "std1 = 10  \n",
    "\n",
    "\n",
    "n2 = 40  \n",
    "mean2 = 75  \n",
    "std2 = 8  \n",
    "\n",
    "significance_level = 0.01\n",
    "\n",
    "\n",
    "pooled_std = np.sqrt(((n1 - 1) * std1**2 + (n2 - 1) * std2**2) / (n1 + n2 - 2))\n",
    "\n",
    "\n",
    "t_score = (mean1 - mean2) / (pooled_std * np.sqrt(1/n1 + 1/n2))\n",
    "\n",
    "# Degrees of freedom\n",
    "df = n1 + n2 - 2\n",
    "\n",
    "# Calculate the critical t-value\n",
    "critical_t_value = t.ppf(1 - significance_level/2, df)\n",
    "\n",
    "# Print the t-score and critical t-value\n",
    "print(\"t-score:\", t_score)\n",
    "print(\"Critical t-value:\", critical_t_value)\n",
    "\n",
    "# Test the hypothesis\n",
    "if t_score > critical_t_value:\n",
    "    print(\"Reject the null hypothesis\")\n",
    "else:\n",
    "    print(\"Fail to reject the null hypothesis\")\n"
   ]
  },
  {
   "cell_type": "code",
   "execution_count": null,
   "id": "875ed685-d0a2-486b-8ee2-500bbeeeb718",
   "metadata": {},
   "outputs": [],
   "source": [
    "The null hypothesis (H₀) is a claim that there’s no effect in the population. It assumes that any observed differences or relationships are due to random chance. In other words, it states that the independent variable has no impact on the dependent variable.\n",
    "\n",
    "On the other hand, the alternative hypothesis (Hₐ or H₁) asserts that there is an effect in the population. It represents the researcher’s hypothesis or prediction. If the sample data provides enough evidence against the null hypothesis (usually with a p-value less than a chosen significance level α),\n",
    "we can reject the null hypothesis in favor of the alternative hypothesis. However, if the evidence is insufficient, we fail to reject the null hypothesis\n",
    "\n",
    "example - Null: Temperature has no impact on crime rates.\n",
    "Alternative: Temperature has a positive or negative impact on crime rates."
   ]
  },
  {
   "cell_type": "code",
   "execution_count": null,
   "id": "99197727-f324-4616-96ae-a7612caf9f24",
   "metadata": {},
   "outputs": [],
   "source": [
    "1 State your research hypothesis as a null hypothesis and alternate hypothesis (H o) and (H a or H 1 ).\n",
    "2 Collect data in a way designed to test the hypothesis.\n",
    "3 Perform an appropriate statistical test.\n",
    "4 Decide whether to reject or fail to reject your null hypothesis.\n",
    "5 Present the findings in your results and discussion section "
   ]
  },
  {
   "cell_type": "code",
   "execution_count": null,
   "id": "99a39ba8-9cfe-45e7-862d-f18ebfeb46d8",
   "metadata": {},
   "outputs": [],
   "source": [
    "A p-value in statistics is a number that indicates how likely it is to obtain a value that is at least equal to or more extreme than the actual observation if the null hypothesis is correct. Let me explain further:\n",
    "\n",
    "Null Hypothesis (H₀): In any statistical test, we start with a null hypothesis. For most tests, the null hypothesis assumes that there is no relationship between the variables of interest or that there is no difference among groups. For example, in a two-tailed t-test, the null hypothesis is that the difference between two groups is zero.\n",
    "Test Statistic: When we perform a statistical test using our data, we calculate a test statistic. This test statistic quantifies the difference or effect we are investigating.\n",
    "P-Value Calculation: The p-value tells us how often we would expect to see a test statistic as extreme or more extreme than the one calculated from our data if the null hypothesis were true. It represents the probability of obtaining such an extreme result by random chance.\n"
   ]
  },
  {
   "cell_type": "code",
   "execution_count": 152,
   "id": "0048d3de-230e-4bf3-b4d4-8be7aad4ab3e",
   "metadata": {},
   "outputs": [
    {
     "data": {
      "image/png": "[encoded data removed]",
      "text/plain": [
       "<Figure size 800x600 with 1 Axes>"
      ]
     },
     "metadata": {},
     "output_type": "display_data"
    }
   ],
   "source": [
    "import numpy as np\n",
    "import matplotlib.pyplot as plt\n",
    "from scipy.stats import t\n",
    "\n",
    "# Define the degrees of freedom\n",
    "degrees_of_freedom = 10\n",
    "\n",
    "# Generate x values for the plot\n",
    "x = np.linspace(-5, 5, 1000)\n",
    "\n",
    "# Calculate the probability density function (PDF) for the t-distribution\n",
    "pdf = t.pdf(x, df=degrees_of_freedom)\n",
    "\n",
    "# Plot the t-distribution\n",
    "plt.figure(figsize=(8, 6))\n",
    "plt.plot(x, pdf, label=f\"t-distribution (df={degrees_of_freedom})\", color='blue')\n",
    "plt.title(\"Student's t-Distribution\")\n",
    "plt.xlabel(\"x\")\n",
    "plt.ylabel(\"Probability Density\")\n",
    "plt.legend()\n",
    "plt.grid(True)\n",
    "plt.show()\n"
   ]
  },
  {
   "cell_type": "code",
   "execution_count": null,
   "id": "e7791bbe-e913-4408-b1cb-5dba6dd79ec6",
   "metadata": {},
   "outputs": [],
   "source": [
    "t-statistic - Statistic Analysis using z-score we need population standard deviation.\n",
    "\n",
    "t = (x̄ – μ) / (σ / √n) "
   ]
  },
  {
   "cell_type": "code",
   "execution_count": 146,
   "id": "eaf17b5a-2d49-4d6d-9ae1-9a464d2b152c",
   "metadata": {},
   "outputs": [],
   "source": [
    "sample_mean = 500\n",
    "sample_size = 50\n",
    "population_std = 50\n",
    "Confidence_interval = 0.95\n",
    "Z_score = 1.96"
   ]
  },
  {
   "cell_type": "code",
   "execution_count": 147,
   "id": "b581a676-c0ab-4001-a622-cbd795f1bc69",
   "metadata": {},
   "outputs": [],
   "source": [
    "population_mean = (sample_mean+Z_score ) * (population_std / np.sqrt(sample_size)) "
   ]
  },
  {
   "cell_type": "code",
   "execution_count": 148,
   "id": "3d186dd3-b9dc-421a-b331-c276758b5720",
   "metadata": {},
   "outputs": [
    {
     "data": {
      "text/plain": [
       "3549.3931988439936"
      ]
     },
     "execution_count": 148,
     "metadata": {},
     "output_type": "execute_result"
    }
   ],
   "source": [
    "population_mean"
   ]
  },
  {
   "cell_type": "code",
   "execution_count": 82,
   "id": "4b29be50-b9ea-4233-aa7c-7286bd23c155",
   "metadata": {},
   "outputs": [],
   "source": [
    "import numpy as np\n",
    "from scipy.stats import t"
   ]
  },
  {
   "cell_type": "code",
   "execution_count": 121,
   "id": "15d6744c-e52f-4177-a69b-ebaf8b0918e6",
   "metadata": {},
   "outputs": [],
   "source": [
    "hypothesized_mean = 10\n",
    "sample_size = 100\n",
    "sample_mean = 8\n",
    "population_std = 3\n",
    "significance_level = 0.05"
   ]
  },
  {
   "cell_type": "code",
   "execution_count": 122,
   "id": "48be904d-5cbb-4422-90a6-57febb515cde",
   "metadata": {},
   "outputs": [],
   "source": [
    "t_score = (sample_mean - hypothesized_mean) / (population_std / np.sqrt(sample_size))"
   ]
  },
  {
   "cell_type": "code",
   "execution_count": 123,
   "id": "ad13b8f6-74e1-4628-80ad-5c60cb8f26a1",
   "metadata": {},
   "outputs": [
    {
     "data": {
      "text/plain": [
       "-6.666666666666667"
      ]
     },
     "execution_count": 123,
     "metadata": {},
     "output_type": "execute_result"
    }
   ],
   "source": [
    "t_score"
   ]
  },
  {
   "cell_type": "code",
   "execution_count": 124,
   "id": "4ce7088d-9e68-465b-9e62-8c8f5f8ba936",
   "metadata": {},
   "outputs": [],
   "source": [
    "critical_value = 1 - significance_level"
   ]
  },
  {
   "cell_type": "code",
   "execution_count": 125,
   "id": "1cbb930f-1634-4921-8763-461a2db47546",
   "metadata": {},
   "outputs": [
    {
     "data": {
      "text/plain": [
       "0.95"
      ]
     },
     "execution_count": 125,
     "metadata": {},
     "output_type": "execute_result"
    }
   ],
   "source": [
    "critical_value "
   ]
  },
  {
   "cell_type": "code",
   "execution_count": 126,
   "id": "c709ba7f-bee4-431e-a27f-a94ed840b0bc",
   "metadata": {},
   "outputs": [],
   "source": [
    "dof = sample_size-1"
   ]
  },
  {
   "cell_type": "code",
   "execution_count": 127,
   "id": "3ef7bdda-d6ac-4532-93ae-a2cc23b2b4ee",
   "metadata": {},
   "outputs": [
    {
     "data": {
      "text/plain": [
       "99"
      ]
     },
     "execution_count": 127,
     "metadata": {},
     "output_type": "execute_result"
    }
   ],
   "source": [
    "dof"
   ]
  },
  {
   "cell_type": "code",
   "execution_count": 128,
   "id": "f5b5360c-54d3-4a99-a143-c3e1bce24879",
   "metadata": {},
   "outputs": [
    {
     "name": "stdout",
     "output_type": "stream",
     "text": [
      "reject the null hypothesis\n"
     ]
    }
   ],
   "source": [
    "if t_score < -1.984 or t_score > 1.984:\n",
    "    print(\"reject the null hypothesis\")\n",
    "    \n",
    "else :\n",
    "    print(\"accept the null hypothesis\")\n"
   ]
  },
  {
   "cell_type": "code",
   "execution_count": 129,
   "id": "5ed4cf03-20b8-4b54-81b9-6d9bc52ed806",
   "metadata": {},
   "outputs": [],
   "source": [
    "hypothesized_mean = 5\n",
    "population_std = 0.5\n",
    "sample_size = 25\n",
    "sample_mean = 4.8\n",
    "significance_level = 0.01"
   ]
  },
  {
   "cell_type": "code",
   "execution_count": 130,
   "id": "04dad3f7-d3f9-41d6-bf74-d5221b909ea4",
   "metadata": {},
   "outputs": [],
   "source": [
    "t_score = (sample_mean - hypothesized_mean) / (population_std / np.sqrt(sample_size))"
   ]
  },
  {
   "cell_type": "code",
   "execution_count": 131,
   "id": "92ede5c4-f167-4986-9a5e-a6e2afc921fd",
   "metadata": {},
   "outputs": [
    {
     "data": {
      "text/plain": [
       "-2.0000000000000018"
      ]
     },
     "execution_count": 131,
     "metadata": {},
     "output_type": "execute_result"
    }
   ],
   "source": [
    "t_score"
   ]
  },
  {
   "cell_type": "code",
   "execution_count": 132,
   "id": "f5e7cd13-415e-4de5-98ba-0b1970f9ab4b",
   "metadata": {},
   "outputs": [],
   "source": [
    "critical_value = 1 - significance_level"
   ]
  },
  {
   "cell_type": "code",
   "execution_count": 133,
   "id": "18ed91de-cced-4059-9837-6cd6741baf1d",
   "metadata": {},
   "outputs": [
    {
     "data": {
      "text/plain": [
       "0.99"
      ]
     },
     "execution_count": 133,
     "metadata": {},
     "output_type": "execute_result"
    }
   ],
   "source": [
    "critical_value"
   ]
  },
  {
   "cell_type": "code",
   "execution_count": 134,
   "id": "997a2825-1881-4bf7-adb1-b55ce15ad038",
   "metadata": {},
   "outputs": [],
   "source": [
    "df = sample_size - 1"
   ]
  },
  {
   "cell_type": "code",
   "execution_count": 135,
   "id": "401b57c1-f8f7-4442-b7bb-f4049d0513ab",
   "metadata": {},
   "outputs": [
    {
     "data": {
      "text/plain": [
       "24"
      ]
     },
     "execution_count": 135,
     "metadata": {},
     "output_type": "execute_result"
    }
   ],
   "source": [
    "df"
   ]
  },
  {
   "cell_type": "code",
   "execution_count": 136,
   "id": "8fbe1854-4aca-42c6-b5dd-a26476f9b3c3",
   "metadata": {},
   "outputs": [],
   "source": [
    "critical_t_value = t.ppf(significance_level, df)"
   ]
  },
  {
   "cell_type": "code",
   "execution_count": 137,
   "id": "dc726ad3-5028-4c67-b9c9-abcf05d87845",
   "metadata": {},
   "outputs": [
    {
     "data": {
      "text/plain": [
       "-2.4921594731575762"
      ]
     },
     "execution_count": 137,
     "metadata": {},
     "output_type": "execute_result"
    }
   ],
   "source": [
    "critical_t_value"
   ]
  },
  {
   "cell_type": "code",
   "execution_count": 138,
   "id": "f80cc09f-2ed2-471a-8e57-9ba70eecdad8",
   "metadata": {},
   "outputs": [
    {
     "name": "stdout",
     "output_type": "stream",
     "text": [
      " reject the null hypothesis \n"
     ]
    }
   ],
   "source": [
    "if t_score < critical_t_value or t_score > critical_t_value :\n",
    "    print(\" reject the null hypothesis \")\n",
    "    \n",
    "else :\n",
    "    print(\"accept the null hypothesis\")"
   ]
  },
  {
   "cell_type": "code",
   "execution_count": 139,
   "id": "68c21121-093c-4689-b964-262b957b825b",
   "metadata": {},
   "outputs": [
    {
     "name": "stdout",
     "output_type": "stream",
     "text": [
      "t-score: 2.3239677296992913\n",
      "Critical t-value: 2.6500812928169553\n",
      "Fail to reject the null hypothesis\n"
     ]
    }
   ],
   "source": [
    "import numpy as np\n",
    "from scipy.stats import t\n",
    "\n",
    "n1 = 30  \n",
    "mean1 = 80  \n",
    "std1 = 10  \n",
    "\n",
    "\n",
    "n2 = 40  \n",
    "mean2 = 75  \n",
    "std2 = 8  \n",
    "\n",
    "significance_level = 0.01\n",
    "\n",
    "\n",
    "pooled_std = np.sqrt(((n1 - 1) * std1**2 + (n2 - 1) * std2**2) / (n1 + n2 - 2))\n",
    "\n",
    "\n",
    "t_score = (mean1 - mean2) / (pooled_std * np.sqrt(1/n1 + 1/n2))\n",
    "\n",
    "# Degrees of freedom\n",
    "df = n1 + n2 - 2\n",
    "\n",
    "# Calculate the critical t-value\n",
    "critical_t_value = t.ppf(1 - significance_level/2, df)\n",
    "\n",
    "# Print the t-score and critical t-value\n",
    "print(\"t-score:\", t_score)\n",
    "print(\"Critical t-value:\", critical_t_value)\n",
    "\n",
    "# Test the hypothesis\n",
    "if t_score > critical_t_value:\n",
    "    print(\"Reject the null hypothesis\")\n",
    "else:\n",
    "    print(\"Fail to reject the null hypothesis\")\n"
   ]
  },
  {
   "cell_type": "code",
   "execution_count": 140,
   "id": "04bc960d-a8f8-466b-b5a1-9aec8aebe362",
   "metadata": {},
   "outputs": [],
   "source": [
    "sample_size = 50 \n",
    "sample_mean = 4 \n",
    "population_std = 1.5\n",
    "Z = 2.576"
   ]
  },
  {
   "cell_type": "code",
   "execution_count": 141,
   "id": "ae0f2cbb-8176-4e69-8719-05855405f57f",
   "metadata": {},
   "outputs": [],
   "source": [
    "population_mean = (sample_mean+Z ) * (population_std / np.sqrt(sample_size)) "
   ]
  },
  {
   "cell_type": "code",
   "execution_count": 142,
   "id": "a5c89233-b87d-4299-83fd-b18b45453503",
   "metadata": {},
   "outputs": [
    {
     "data": {
      "text/plain": [
       "1.394980257924821"
      ]
     },
     "execution_count": 142,
     "metadata": {},
     "output_type": "execute_result"
    }
   ],
   "source": [
    "population_mean"
   ]
  },
  {
   "cell_type": "code",
   "execution_count": null,
   "id": "534f98f3-fef7-49cb-9ea7-244a5b1dab5c",
   "metadata": {},
   "outputs": [],
   "source": []
  },
  {
   "cell_type": "code",
   "execution_count": null,
   "id": "f91368cd-3dab-4a58-9e53-6ac6696f5482",
   "metadata": {},
   "outputs": [],
   "source": []
  }
 ],
 "metadata": {
  "kernelspec": {
   "display_name": "Python 3 (ipykernel)",
   "language": "python",
   "name": "python3"
  },
  "language_info": {
   "codemirror_mode": {
    "name": "ipython",
    "version": 3
   },
   "file_extension": ".py",
   "mimetype": "text/x-python",
   "name": "python",
   "nbconvert_exporter": "python",
   "pygments_lexer": "ipython3",
   "version": "3.10.8"
  }
 },
 "nbformat": 4,
 "nbformat_minor": 5
}
