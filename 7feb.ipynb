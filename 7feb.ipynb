{
 "cells": [
  {
   "cell_type": "code",
   "execution_count": 6,
   "id": "5d0b3a16-0a43-49a8-b193-7137575e61ec",
   "metadata": {},
   "outputs": [
    {
     "name": "stdin",
     "output_type": "stream",
     "text": [
      "Enter your password:  vanshika123@$\n"
     ]
    },
    {
     "name": "stdout",
     "output_type": "stream",
     "text": [
      "Invalid Password\n"
     ]
    }
   ],
   "source": [
    "import re\n",
    "\n",
    "def check_password(password):\n",
    "    # Check if password has at least two uppercase letters\n",
    "    uppercase_count = sum(1 for char in password if char.isupper())\n",
    "\n",
    "    # Check if password has at least two lowercase letters\n",
    "    lowercase_count = sum(1 for char in password if char.islower())\n",
    "\n",
    "    # Check if password has at least a number\n",
    "    has_number = any(char.isdigit() for char in password)\n",
    "\n",
    "    # Check if password has at least three special characters\n",
    "    special_char_count = len(re.findall(r'[!@#$%^&*()-_+=]', password))\n",
    "\n",
    "    # Check all conditions\n",
    "    if uppercase_count >= 2 and lowercase_count >= 2 and has_number and special_char_count >= 3:\n",
    "        return \"Valid Password\"\n",
    "    else:\n",
    "        return \"Invalid Password\"\n",
    "\n",
    "# Example usage:\n",
    "user_password = input(\"Enter your password: \")\n",
    "result = check_password(user_password)\n",
    "print(result)\n"
   ]
  },
  {
   "cell_type": "code",
   "execution_count": 25,
   "id": "674c6384-30c8-4a60-8c7a-daa82002fd68",
   "metadata": {},
   "outputs": [
    {
     "name": "stdout",
     "output_type": "stream",
     "text": [
      "True\n"
     ]
    }
   ],
   "source": [
    "# Input string\n",
    "input_string = \"vanshika\"\n",
    "\n",
    "# Letter to check for\n",
    "start_letter = \"v\"\n",
    "\n",
    "# Use lambda function with startswith to check if the string starts with the specified letter\n",
    "starts_with_letter = lambda s: s.startswith(start_letter)\n",
    "\n",
    "# Call the lambda function with the input string\n",
    "result = starts_with_letter(input_string)\n",
    "\n",
    "# Print the result\n",
    "print(result)\n"
   ]
  },
  {
   "cell_type": "code",
   "execution_count": 27,
   "id": "c7682f58-ca3f-443b-b0e9-cc9c1a3a4ad1",
   "metadata": {},
   "outputs": [
    {
     "name": "stdout",
     "output_type": "stream",
     "text": [
      "False\n"
     ]
    }
   ],
   "source": [
    "# Input string\n",
    "input_string = \"hbhbhbj\"\n",
    "\n",
    "# Use filter function with str.isdigit to check if the string is numeric\n",
    "is_numeric = list(filter(lambda x: x.isdigit(), input_string))\n",
    "\n",
    "# Check if the resulting list is not empty\n",
    "result = bool(is_numeric)\n",
    "\n",
    "# Print the result\n",
    "print(result)\n"
   ]
  },
  {
   "cell_type": "code",
   "execution_count": 7,
   "id": "92a28a19-c483-4279-9b61-75c4b2cfaf9d",
   "metadata": {},
   "outputs": [
    {
     "name": "stdout",
     "output_type": "stream",
     "text": [
      "[('orange', 80), ('mango', 99), ('grapes', 1000)]\n"
     ]
    }
   ],
   "source": [
    "data = [(\"mango\",99),(\"orange\",80), (\"grapes\", 1000)]\n",
    "\n",
    "sorted_data = sorted(data, key = lambda x : x [1])\n",
    "\n",
    "print(sorted_data)"
   ]
  },
  {
   "cell_type": "code",
   "execution_count": 8,
   "id": "c28bb0a1-8383-4ed8-9648-28ea5d721a7a",
   "metadata": {},
   "outputs": [],
   "source": [
    "l = [1,2,3,4,5,6,7,8,9,10]"
   ]
  },
  {
   "cell_type": "code",
   "execution_count": 9,
   "id": "841c9cad-1789-4f8f-ba86-836f1a2b05e8",
   "metadata": {},
   "outputs": [],
   "source": [
    "def sq(x):\n",
    "    return x**2"
   ]
  },
  {
   "cell_type": "code",
   "execution_count": 10,
   "id": "a95c2b37-d63f-400a-94ff-53644431b2d0",
   "metadata": {},
   "outputs": [
    {
     "data": {
      "text/plain": [
       "[1, 4, 9, 16, 25, 36, 49, 64, 81, 100]"
      ]
     },
     "execution_count": 10,
     "metadata": {},
     "output_type": "execute_result"
    }
   ],
   "source": [
    "list(map(sq , l))"
   ]
  },
  {
   "cell_type": "code",
   "execution_count": 12,
   "id": "386736bb-c17c-4238-80f9-c30b67231434",
   "metadata": {},
   "outputs": [],
   "source": [
    "def cube_roots(x):\n",
    "    return x**(1/3)"
   ]
  },
  {
   "cell_type": "code",
   "execution_count": 15,
   "id": "3f747411-8d4e-448b-9e3f-b9ef3db5fd5a",
   "metadata": {},
   "outputs": [
    {
     "data": {
      "text/plain": [
       "[1.0,\n",
       " 1.2599210498948732,\n",
       " 1.4422495703074083,\n",
       " 1.5874010519681994,\n",
       " 1.7099759466766968,\n",
       " 1.8171205928321397,\n",
       " 1.912931182772389,\n",
       " 2.0,\n",
       " 2.080083823051904,\n",
       " 2.154434690031884]"
      ]
     },
     "execution_count": 15,
     "metadata": {},
     "output_type": "execute_result"
    }
   ],
   "source": [
    "list(map(cube_roots , l))"
   ]
  },
  {
   "cell_type": "code",
   "execution_count": 17,
   "id": "0ce320a6-bcaf-4604-a09b-fbff178e82b8",
   "metadata": {},
   "outputs": [
    {
     "data": {
      "text/plain": [
       "[2, 4, 6, 8, 10]"
      ]
     },
     "execution_count": 17,
     "metadata": {},
     "output_type": "execute_result"
    }
   ],
   "source": [
    "list(filter(lambda x : x % 2 == 0 , l)) "
   ]
  },
  {
   "cell_type": "code",
   "execution_count": 18,
   "id": "6a38eb6a-e0da-4547-b2ba-357b722c811e",
   "metadata": {},
   "outputs": [
    {
     "data": {
      "text/plain": [
       "[1, 3, 5, 7, 9]"
      ]
     },
     "execution_count": 18,
     "metadata": {},
     "output_type": "execute_result"
    }
   ],
   "source": [
    "list(filter(lambda x : x % 2 != 0 , l)) "
   ]
  },
  {
   "cell_type": "code",
   "execution_count": 20,
   "id": "a158f259-5883-499b-9d39-95673d5ed8ae",
   "metadata": {},
   "outputs": [
    {
     "name": "stdout",
     "output_type": "stream",
     "text": [
      "[-5, -4, -3, -2, -1, 0, 1, 2, 3, 4, 5, 6]\n"
     ]
    }
   ],
   "source": [
    "data = [1,2,3,4,5,6,-1,-2,-3,-4,-5,0]\n",
    "\n",
    "sorted_data = sorted(data , key = lambda x:x )\n",
    "\n",
    "print(sorted_data)"
   ]
  },
  {
   "cell_type": "code",
   "execution_count": null,
   "id": "084663e1-a75f-4b0d-b180-c2e5d22295d8",
   "metadata": {},
   "outputs": [],
   "source": []
  }
 ],
 "metadata": {
  "kernelspec": {
   "display_name": "Python 3 (ipykernel)",
   "language": "python",
   "name": "python3"
  },
  "language_info": {
   "codemirror_mode": {
    "name": "ipython",
    "version": 3
   },
   "file_extension": ".py",
   "mimetype": "text/x-python",
   "name": "python",
   "nbconvert_exporter": "python",
   "pygments_lexer": "ipython3",
   "version": "3.10.8"
  }
 },
 "nbformat": 4,
 "nbformat_minor": 5
}
